{
 "cells": [
  {
   "cell_type": "markdown",
   "id": "1d604ed4-075c-4e55-bb0b-5fd6fdade989",
   "metadata": {},
   "source": [
    "#### QUESTION: ACME Insurance Inc. offers affordable health insurance to thousands of customer all over the United States. As the lead data scientist at ACME, you're tasked with creating an automated system to estimate the annual medical expenditure for new customers, using information such as their age, sex, BMI, children, smoking habits and region of residence.\n",
    "\n",
    "#### Estimates from your system will be used to determine the annual insurance premium (amount paid every month) offered to the customer. Due to regulatory requirements, you must be able to explain why your system outputs a certain prediction.\n",
    "\n",
    "#### You're given a CSV file containing verified historical data, consisting of the aforementioned information and the actual medical charges incurred by over 1300 customers.\n",
    "\n",
    ">Link to the Dataset:https://www.kaggle.com/datasets/mirichoi0218/insurance"
   ]
  },
  {
   "cell_type": "code",
   "execution_count": 2,
   "id": "fb6eff78-6076-43ea-9f86-3263aee3f5f1",
   "metadata": {},
   "outputs": [
    {
     "data": {
      "text/html": [
       "<div>\n",
       "<style scoped>\n",
       "    .dataframe tbody tr th:only-of-type {\n",
       "        vertical-align: middle;\n",
       "    }\n",
       "\n",
       "    .dataframe tbody tr th {\n",
       "        vertical-align: top;\n",
       "    }\n",
       "\n",
       "    .dataframe thead th {\n",
       "        text-align: right;\n",
       "    }\n",
       "</style>\n",
       "<table border=\"1\" class=\"dataframe\">\n",
       "  <thead>\n",
       "    <tr style=\"text-align: right;\">\n",
       "      <th></th>\n",
       "      <th>age</th>\n",
       "      <th>sex</th>\n",
       "      <th>bmi</th>\n",
       "      <th>children</th>\n",
       "      <th>smoker</th>\n",
       "      <th>region</th>\n",
       "      <th>charges</th>\n",
       "    </tr>\n",
       "  </thead>\n",
       "  <tbody>\n",
       "    <tr>\n",
       "      <th>0</th>\n",
       "      <td>19</td>\n",
       "      <td>female</td>\n",
       "      <td>27.900</td>\n",
       "      <td>0</td>\n",
       "      <td>yes</td>\n",
       "      <td>southwest</td>\n",
       "      <td>16884.92400</td>\n",
       "    </tr>\n",
       "    <tr>\n",
       "      <th>1</th>\n",
       "      <td>18</td>\n",
       "      <td>male</td>\n",
       "      <td>33.770</td>\n",
       "      <td>1</td>\n",
       "      <td>no</td>\n",
       "      <td>southeast</td>\n",
       "      <td>1725.55230</td>\n",
       "    </tr>\n",
       "    <tr>\n",
       "      <th>2</th>\n",
       "      <td>28</td>\n",
       "      <td>male</td>\n",
       "      <td>33.000</td>\n",
       "      <td>3</td>\n",
       "      <td>no</td>\n",
       "      <td>southeast</td>\n",
       "      <td>4449.46200</td>\n",
       "    </tr>\n",
       "    <tr>\n",
       "      <th>3</th>\n",
       "      <td>33</td>\n",
       "      <td>male</td>\n",
       "      <td>22.705</td>\n",
       "      <td>0</td>\n",
       "      <td>no</td>\n",
       "      <td>northwest</td>\n",
       "      <td>21984.47061</td>\n",
       "    </tr>\n",
       "    <tr>\n",
       "      <th>4</th>\n",
       "      <td>32</td>\n",
       "      <td>male</td>\n",
       "      <td>28.880</td>\n",
       "      <td>0</td>\n",
       "      <td>no</td>\n",
       "      <td>northwest</td>\n",
       "      <td>3866.85520</td>\n",
       "    </tr>\n",
       "    <tr>\n",
       "      <th>...</th>\n",
       "      <td>...</td>\n",
       "      <td>...</td>\n",
       "      <td>...</td>\n",
       "      <td>...</td>\n",
       "      <td>...</td>\n",
       "      <td>...</td>\n",
       "      <td>...</td>\n",
       "    </tr>\n",
       "    <tr>\n",
       "      <th>1333</th>\n",
       "      <td>50</td>\n",
       "      <td>male</td>\n",
       "      <td>30.970</td>\n",
       "      <td>3</td>\n",
       "      <td>no</td>\n",
       "      <td>northwest</td>\n",
       "      <td>10600.54830</td>\n",
       "    </tr>\n",
       "    <tr>\n",
       "      <th>1334</th>\n",
       "      <td>18</td>\n",
       "      <td>female</td>\n",
       "      <td>31.920</td>\n",
       "      <td>0</td>\n",
       "      <td>no</td>\n",
       "      <td>northeast</td>\n",
       "      <td>2205.98080</td>\n",
       "    </tr>\n",
       "    <tr>\n",
       "      <th>1335</th>\n",
       "      <td>18</td>\n",
       "      <td>female</td>\n",
       "      <td>36.850</td>\n",
       "      <td>0</td>\n",
       "      <td>no</td>\n",
       "      <td>southeast</td>\n",
       "      <td>1629.83350</td>\n",
       "    </tr>\n",
       "    <tr>\n",
       "      <th>1336</th>\n",
       "      <td>21</td>\n",
       "      <td>female</td>\n",
       "      <td>25.800</td>\n",
       "      <td>0</td>\n",
       "      <td>no</td>\n",
       "      <td>southwest</td>\n",
       "      <td>2007.94500</td>\n",
       "    </tr>\n",
       "    <tr>\n",
       "      <th>1337</th>\n",
       "      <td>61</td>\n",
       "      <td>female</td>\n",
       "      <td>29.070</td>\n",
       "      <td>0</td>\n",
       "      <td>yes</td>\n",
       "      <td>northwest</td>\n",
       "      <td>29141.36030</td>\n",
       "    </tr>\n",
       "  </tbody>\n",
       "</table>\n",
       "<p>1338 rows × 7 columns</p>\n",
       "</div>"
      ],
      "text/plain": [
       "      age     sex     bmi  children smoker     region      charges\n",
       "0      19  female  27.900         0    yes  southwest  16884.92400\n",
       "1      18    male  33.770         1     no  southeast   1725.55230\n",
       "2      28    male  33.000         3     no  southeast   4449.46200\n",
       "3      33    male  22.705         0     no  northwest  21984.47061\n",
       "4      32    male  28.880         0     no  northwest   3866.85520\n",
       "...   ...     ...     ...       ...    ...        ...          ...\n",
       "1333   50    male  30.970         3     no  northwest  10600.54830\n",
       "1334   18  female  31.920         0     no  northeast   2205.98080\n",
       "1335   18  female  36.850         0     no  southeast   1629.83350\n",
       "1336   21  female  25.800         0     no  southwest   2007.94500\n",
       "1337   61  female  29.070         0    yes  northwest  29141.36030\n",
       "\n",
       "[1338 rows x 7 columns]"
      ]
     },
     "execution_count": 2,
     "metadata": {},
     "output_type": "execute_result"
    }
   ],
   "source": [
    "#import the necessary Libraries\n",
    "import pandas as pd\n",
    "import numpy as np\n",
    "import matplotlib\n",
    "import matplotlib.pyplot as plt\n",
    "import seaborn as sns\n",
    "import plotly.express as px\n",
    "import plotly.io as pio\n",
    "pio.renderers.default = 'iframe'\n",
    "\n",
    "df=pd.read_csv('insurance.csv')\n",
    "# df = pd.read_csv('../input/insurance.csv')\n",
    "df"
   ]
  },
  {
   "cell_type": "markdown",
   "id": "c723ccb0-3624-4b5b-980a-f4a3eca6f603",
   "metadata": {},
   "source": [
    "#### The dataset contains 1338 rows and 7 columns. Each row of the dataset contains information about one customer.\n",
    "\n",
    "#### Our objective is to find a way to estimate the value in the \"charges\" column using the values in the other columns. If we can do so for the historical data, then we should able to estimate charges for new customers too, simply by asking for information like their age, sex, BMI, no. of children, smoking habits and region.\n",
    "\n",
    "#### Let's check the data type for each column."
   ]
  },
  {
   "cell_type": "code",
   "execution_count": 4,
   "id": "383f22c4-0414-4737-bf1f-0b42ac341dfe",
   "metadata": {},
   "outputs": [
    {
     "name": "stdout",
     "output_type": "stream",
     "text": [
      "<class 'pandas.core.frame.DataFrame'>\n",
      "RangeIndex: 1338 entries, 0 to 1337\n",
      "Data columns (total 7 columns):\n",
      " #   Column    Non-Null Count  Dtype  \n",
      "---  ------    --------------  -----  \n",
      " 0   age       1338 non-null   int64  \n",
      " 1   sex       1338 non-null   object \n",
      " 2   bmi       1338 non-null   float64\n",
      " 3   children  1338 non-null   int64  \n",
      " 4   smoker    1338 non-null   object \n",
      " 5   region    1338 non-null   object \n",
      " 6   charges   1338 non-null   float64\n",
      "dtypes: float64(2), int64(2), object(3)\n",
      "memory usage: 73.3+ KB\n"
     ]
    }
   ],
   "source": [
    "df.info()"
   ]
  },
  {
   "cell_type": "markdown",
   "id": "95c3dc09-9de8-4891-8134-fb80b90d228c",
   "metadata": {},
   "source": [
    "#### Looks like \"age\", \"children\", \"bmi\" (body mass index) and \"charges\" are numbers, whereas \"sex\", \"smoker\" and \"region\" are strings (possibly categories). None of the columns contain any missing values, which saves us a fair bit of work!"
   ]
  },
  {
   "cell_type": "code",
   "execution_count": 6,
   "id": "cda07e0e-4688-41c7-a1f7-a004400530e3",
   "metadata": {},
   "outputs": [
    {
     "data": {
      "text/html": [
       "<div>\n",
       "<style scoped>\n",
       "    .dataframe tbody tr th:only-of-type {\n",
       "        vertical-align: middle;\n",
       "    }\n",
       "\n",
       "    .dataframe tbody tr th {\n",
       "        vertical-align: top;\n",
       "    }\n",
       "\n",
       "    .dataframe thead th {\n",
       "        text-align: right;\n",
       "    }\n",
       "</style>\n",
       "<table border=\"1\" class=\"dataframe\">\n",
       "  <thead>\n",
       "    <tr style=\"text-align: right;\">\n",
       "      <th></th>\n",
       "      <th>age</th>\n",
       "      <th>bmi</th>\n",
       "      <th>children</th>\n",
       "      <th>charges</th>\n",
       "    </tr>\n",
       "  </thead>\n",
       "  <tbody>\n",
       "    <tr>\n",
       "      <th>count</th>\n",
       "      <td>1338.000000</td>\n",
       "      <td>1338.000000</td>\n",
       "      <td>1338.000000</td>\n",
       "      <td>1338.000000</td>\n",
       "    </tr>\n",
       "    <tr>\n",
       "      <th>mean</th>\n",
       "      <td>39.207025</td>\n",
       "      <td>30.663397</td>\n",
       "      <td>1.094918</td>\n",
       "      <td>13270.422265</td>\n",
       "    </tr>\n",
       "    <tr>\n",
       "      <th>std</th>\n",
       "      <td>14.049960</td>\n",
       "      <td>6.098187</td>\n",
       "      <td>1.205493</td>\n",
       "      <td>12110.011237</td>\n",
       "    </tr>\n",
       "    <tr>\n",
       "      <th>min</th>\n",
       "      <td>18.000000</td>\n",
       "      <td>15.960000</td>\n",
       "      <td>0.000000</td>\n",
       "      <td>1121.873900</td>\n",
       "    </tr>\n",
       "    <tr>\n",
       "      <th>25%</th>\n",
       "      <td>27.000000</td>\n",
       "      <td>26.296250</td>\n",
       "      <td>0.000000</td>\n",
       "      <td>4740.287150</td>\n",
       "    </tr>\n",
       "    <tr>\n",
       "      <th>50%</th>\n",
       "      <td>39.000000</td>\n",
       "      <td>30.400000</td>\n",
       "      <td>1.000000</td>\n",
       "      <td>9382.033000</td>\n",
       "    </tr>\n",
       "    <tr>\n",
       "      <th>75%</th>\n",
       "      <td>51.000000</td>\n",
       "      <td>34.693750</td>\n",
       "      <td>2.000000</td>\n",
       "      <td>16639.912515</td>\n",
       "    </tr>\n",
       "    <tr>\n",
       "      <th>max</th>\n",
       "      <td>64.000000</td>\n",
       "      <td>53.130000</td>\n",
       "      <td>5.000000</td>\n",
       "      <td>63770.428010</td>\n",
       "    </tr>\n",
       "  </tbody>\n",
       "</table>\n",
       "</div>"
      ],
      "text/plain": [
       "               age          bmi     children       charges\n",
       "count  1338.000000  1338.000000  1338.000000   1338.000000\n",
       "mean     39.207025    30.663397     1.094918  13270.422265\n",
       "std      14.049960     6.098187     1.205493  12110.011237\n",
       "min      18.000000    15.960000     0.000000   1121.873900\n",
       "25%      27.000000    26.296250     0.000000   4740.287150\n",
       "50%      39.000000    30.400000     1.000000   9382.033000\n",
       "75%      51.000000    34.693750     2.000000  16639.912515\n",
       "max      64.000000    53.130000     5.000000  63770.428010"
      ]
     },
     "execution_count": 6,
     "metadata": {},
     "output_type": "execute_result"
    }
   ],
   "source": [
    " df.describe()"
   ]
  },
  {
   "cell_type": "markdown",
   "id": "08115c53-1f40-4272-bd94-ff14df22881f",
   "metadata": {},
   "source": [
    "#### The ranges of values in the numerical columns seem reasonable too (no negative ages!), so we may not have to do much data cleaning or correction. The \"charges\" column seems to be significantly skewed however, as the median (50 percentile) is much lower than the maximum value."
   ]
  },
  {
   "cell_type": "markdown",
   "id": "5095bf30-93d3-4c17-b851-ad56602471ba",
   "metadata": {},
   "source": [
    "## Exploratory Analysis and Visualization\n",
    "\n",
    "#### Let's explore the data by visualizing the distribution of values in some columns of the dataset, and the relationships between \"charges\" and other columns."
   ]
  },
  {
   "cell_type": "code",
   "execution_count": 9,
   "id": "61e1d810-849c-40f3-b47e-af63b918600e",
   "metadata": {},
   "outputs": [],
   "source": [
    "# The following settings will improve the default style and font sizes for our charts.\n",
    "\n",
    "sns.set_style('darkgrid')\n",
    "matplotlib.rcParams['font.size'] = 14\n",
    "matplotlib.rcParams['figure.figsize'] = (10, 6)\n",
    "matplotlib.rcParams['figure.facecolor'] = '#00000000'"
   ]
  },
  {
   "cell_type": "markdown",
   "id": "0fc81001-d49a-4556-b319-9a66f09f1f99",
   "metadata": {},
   "source": [
    "### Age\n",
    "\n",
    "#### Age is a numeric column. The minimum age in the dataset is 18 and the maximum age is 64. Thus, we can visualize the distribution of age using a histogram with 47 bins (one for each year) and a box plot. We'll use plotly to make the chart interactive, but you can create similar charts using Seaborn."
   ]
  },
  {
   "cell_type": "code",
   "execution_count": 11,
   "id": "6e954f43-a6cd-4ebb-97a9-44ef90a2cbac",
   "metadata": {},
   "outputs": [
    {
     "data": {
      "text/html": [
       "<iframe\n",
       "    scrolling=\"no\"\n",
       "    width=\"100%\"\n",
       "    height=\"545px\"\n",
       "    src=\"iframe_figures/figure_11.html\"\n",
       "    frameborder=\"0\"\n",
       "    allowfullscreen\n",
       "></iframe>\n"
      ]
     },
     "metadata": {},
     "output_type": "display_data"
    }
   ],
   "source": [
    "#Histogram of Age Distribution\n",
    "\n",
    "fig = px.histogram(df, \n",
    "                   x='age', \n",
    "                   marginal='box', \n",
    "                   nbins=47, \n",
    "                   title='Distribution of Age')\n",
    "fig.update_layout(bargap=0.1)\n",
    "fig.show()"
   ]
  },
  {
   "cell_type": "markdown",
   "id": "052cb014-25a9-4a1b-8887-24800ff03eb7",
   "metadata": {},
   "source": [
    "#### The distribution of ages in the dataset is almost uniform, with 20-30 customers at every age, except for the ages 18 and 19, which seem to have over twice as many customers as other ages. The uniform distribution might arise from the fact that there isn't a big variation in the number of people of any given age (between 18 & 64) in the USA."
   ]
  },
  {
   "cell_type": "markdown",
   "id": "0d852856-2869-42ce-9259-c3bd902db1da",
   "metadata": {},
   "source": [
    "#### there definitely can be a connection between age and medical charges in an insurance dataset, especially in real-world healthcare scenarios.\n",
    "#### In general: As age increases, medical charges tend to increase too.\n",
    "\n",
    "#### Why would medical charges increase with age?\n",
    "    * Higher risk of health issues\n",
    "    Older individuals are more likely to have chronic conditions (e.g., diabetes, heart   disease, joint problems). This leads to more doctor visits, tests, treatments, and possibly hospitalization.\n",
    "\n",
    "    * Preventive vs. Reactive care\n",
    "    Younger people (like 18–30) often have fewer medical needs, mostly routine checkups. Older adults (40–64) often need more frequent and costly interventions.\n",
    "\n",
    "    * Insurance plan tiers\n",
    "    Some insurance plans adjust premiums/coverage based on age, indirectly impacting total charges.\n",
    "\n",
    "#### Possible Patterns in Data:\n",
    "    * Linear or Non-linear Trend \n",
    "    Medical charges could rise gradually with age — forming a linear relationship.\n",
    "    Or, charges may rise sharply after a certain age (e.g., 45+) — forming a non-linear (exponential) curve."
   ]
  },
  {
   "cell_type": "code",
   "execution_count": 14,
   "id": "4da16e99-a42b-4670-bd56-d3092ed7fd3b",
   "metadata": {},
   "outputs": [
    {
     "data": {
      "text/html": [
       "<iframe\n",
       "    scrolling=\"no\"\n",
       "    width=\"100%\"\n",
       "    height=\"545px\"\n",
       "    src=\"iframe_figures/figure_14.html\"\n",
       "    frameborder=\"0\"\n",
       "    allowfullscreen\n",
       "></iframe>\n"
      ]
     },
     "metadata": {},
     "output_type": "display_data"
    }
   ],
   "source": [
    "fig = px.scatter(df, x='age', y='charges', \n",
    "                 title='Age vs Medical Charges',\n",
    "                 trendline='ols',  # Adds a regression line\n",
    "                 color='smoker')   # Optional: add smoker as color factor\n",
    "\n",
    "fig.show()"
   ]
  },
  {
   "cell_type": "markdown",
   "id": "286db7ba-ef38-4d12-a2e6-44856c8f1fa2",
   "metadata": {},
   "source": [
    "### We can make the following observations from the above chart:\n",
    "\n",
    "#### The general trend seems to be that medical charges increase with age, as we might expect. However, there is significant variation at every age, and it's clear that age alone cannot be used to accurately determine medical charges.\n",
    "\n",
    "#### We can see three \"clusters\" of points, each of which seems to form a line with an increasing slope:\n",
    "\n",
    "> The first and the largest cluster consists primary of presumably \"healthy non-smokers\" who have relatively low medical charges compared to others\n",
    "\n",
    "> The second cluster contains a mix of smokers and non-smokers. It's possible that these are actually two distinct but overlapping clusters: \"non-smokers with medical issues\" and \"smokers without major medical issues\".\n",
    "\n",
    "> The final cluster consists exclusively of smokers, presumably smokers with major medical issues that are possibly related to or worsened by smoking."
   ]
  },
  {
   "cell_type": "markdown",
   "id": "d8f06789-3251-47ac-bc1d-caa968d08654",
   "metadata": {},
   "source": [
    "### Body Mass Index(BMI)\n",
    "\n",
    "#### Let's look at the distribution of BMI (Body Mass Index) of customers, using a histogram and box plot."
   ]
  },
  {
   "cell_type": "code",
   "execution_count": 17,
   "id": "707eb0a3-278c-49c9-8b32-4b36a2618b6b",
   "metadata": {},
   "outputs": [
    {
     "data": {
      "text/html": [
       "<iframe\n",
       "    scrolling=\"no\"\n",
       "    width=\"100%\"\n",
       "    height=\"545px\"\n",
       "    src=\"iframe_figures/figure_17.html\"\n",
       "    frameborder=\"0\"\n",
       "    allowfullscreen\n",
       "></iframe>\n"
      ]
     },
     "metadata": {},
     "output_type": "display_data"
    }
   ],
   "source": [
    "fig = px.histogram(df, \n",
    "                   x='bmi', \n",
    "                   marginal='box', \n",
    "                   color_discrete_sequence=['red'], \n",
    "                   title='Distribution of BMI (Body Mass Index)')\n",
    "fig.update_layout(bargap=0.1)\n",
    "fig.show()"
   ]
  },
  {
   "cell_type": "markdown",
   "id": "c522d813-e986-4659-a76e-06464fa31a4c",
   "metadata": {},
   "source": [
    "#### Let's visualize the relationship between BMI (body mass index) and charges using another scatter plot. Once again, we'll use the values from the \"smoker\" column to color the points."
   ]
  },
  {
   "cell_type": "code",
   "execution_count": 19,
   "id": "76859fab-d693-4a34-aea1-606d61dae567",
   "metadata": {},
   "outputs": [
    {
     "data": {
      "text/html": [
       "<iframe\n",
       "    scrolling=\"no\"\n",
       "    width=\"100%\"\n",
       "    height=\"545px\"\n",
       "    src=\"iframe_figures/figure_19.html\"\n",
       "    frameborder=\"0\"\n",
       "    allowfullscreen\n",
       "></iframe>\n"
      ]
     },
     "metadata": {},
     "output_type": "display_data"
    }
   ],
   "source": [
    "fig = px.scatter(df, x='bmi', y='charges', \n",
    "                 title='BMI vs Medical Charges',\n",
    "                 trendline='ols',  # Adds a regression line\n",
    "                 color='smoker',  # Optional: add smoker as color factor\n",
    "                 opacity=0.8, \n",
    "                 hover_data=['sex'])  \n",
    "\n",
    "fig.show()"
   ]
  },
  {
   "cell_type": "markdown",
   "id": "39d409dc-4a56-44d2-b2b3-41e8e1f518ab",
   "metadata": {},
   "source": [
    "#### It appears that for non-smokers, an increase in BMI doesn't seem to be related to an increase in medical charges. However, medical charges seem to be significantly higher for smokers with a BMI greater than 30."
   ]
  },
  {
   "cell_type": "markdown",
   "id": "0d948379-d2ea-4e95-9a9a-68f76e2f3eba",
   "metadata": {},
   "source": [
    "### Charges\n",
    "\n",
    "#### Let's visualize the distribution of \"charges\" i.e. the annual medical charges for customers. This is the column we're trying to predict. Let's also use the categorical column \"smoker\" to distinguish the charges for smokers and non-smokers."
   ]
  },
  {
   "cell_type": "code",
   "execution_count": 22,
   "id": "1edcf8a7-66d5-4a3c-aba8-eff84019ab0c",
   "metadata": {},
   "outputs": [
    {
     "data": {
      "text/html": [
       "<iframe\n",
       "    scrolling=\"no\"\n",
       "    width=\"100%\"\n",
       "    height=\"545px\"\n",
       "    src=\"iframe_figures/figure_22.html\"\n",
       "    frameborder=\"0\"\n",
       "    allowfullscreen\n",
       "></iframe>\n"
      ]
     },
     "metadata": {},
     "output_type": "display_data"
    }
   ],
   "source": [
    "fig = px.histogram(df, \n",
    "                   x='charges', \n",
    "                   marginal='box', \n",
    "                   color='smoker', \n",
    "                   color_discrete_sequence=['green', 'grey'], \n",
    "                   title='Annual Medical Charges')\n",
    "fig.update_layout(bargap=0.1)\n",
    "fig.show()"
   ]
  },
  {
   "cell_type": "markdown",
   "id": "4ab7e6d4-9c69-47b2-9d03-8d166d4d43d5",
   "metadata": {},
   "source": [
    "#### We can make the following observations from the above graph:\n",
    "\n",
    "   >  For most customers, the annual medical charges are under \\$10,000. Only a small  fraction of customer have higher medical expenses, possibly due to accidents, major illnesses and genetic diseases. The distribution follows a \"power law\"\n",
    "    \n",
    "   >  There is a significant difference in medical expenses between smokers and non-smokers. While the median for non-smokers is \\7300,the median for smokers is close to 35,000."
   ]
  },
  {
   "cell_type": "markdown",
   "id": "2f6d6b0c-bf57-41de-8a49-b3eb39a2333b",
   "metadata": {},
   "source": [
    "#### distribution of medical charges in connection with other factors like \"sex\" and \"region\""
   ]
  },
  {
   "cell_type": "code",
   "execution_count": 25,
   "id": "1818d34c-47ee-496d-88a7-8819f62b0288",
   "metadata": {},
   "outputs": [
    {
     "data": {
      "text/html": [
       "<iframe\n",
       "    scrolling=\"no\"\n",
       "    width=\"100%\"\n",
       "    height=\"545px\"\n",
       "    src=\"iframe_figures/figure_25.html\"\n",
       "    frameborder=\"0\"\n",
       "    allowfullscreen\n",
       "></iframe>\n"
      ]
     },
     "metadata": {},
     "output_type": "display_data"
    }
   ],
   "source": [
    "\n",
    "\n",
    "# violin plot to show distribution of charges by region\n",
    "fig = px.violin(df, \n",
    "                x='region', \n",
    "                y='charges', \n",
    "                box=True, \n",
    "                points='all',\n",
    "                title='Violin Plot: Medical Charges by Region',\n",
    "                color='region')\n",
    "fig.show();"
   ]
  },
  {
   "cell_type": "code",
   "execution_count": 26,
   "id": "4dcd31c1-1412-48ea-aac2-778ed0d9c2c8",
   "metadata": {},
   "outputs": [
    {
     "data": {
      "text/html": [
       "<iframe\n",
       "    scrolling=\"no\"\n",
       "    width=\"100%\"\n",
       "    height=\"545px\"\n",
       "    src=\"iframe_figures/figure_26.html\"\n",
       "    frameborder=\"0\"\n",
       "    allowfullscreen\n",
       "></iframe>\n"
      ]
     },
     "metadata": {},
     "output_type": "display_data"
    }
   ],
   "source": [
    "\n",
    "fig = px.box(df, x='charges',\n",
    "              color='sex',color_discrete_sequence=['red','grey'])\n",
    "\n",
    "fig.show();"
   ]
  },
  {
   "cell_type": "markdown",
   "id": "0b637d09-073c-4a2c-a660-92d23b14d6df",
   "metadata": {},
   "source": [
    "### Smoker\n",
    "\n",
    "#### Let's visualize the distribution of the \"smoker\" column (containing values \"yes\" and \"no\") using a histogram."
   ]
  },
  {
   "cell_type": "code",
   "execution_count": 28,
   "id": "a3553f3d-aa03-4cfb-8fab-f71dd3f47f3c",
   "metadata": {},
   "outputs": [
    {
     "data": {
      "text/plain": [
       "smoker\n",
       "no     1064\n",
       "yes     274\n",
       "Name: count, dtype: int64"
      ]
     },
     "execution_count": 28,
     "metadata": {},
     "output_type": "execute_result"
    }
   ],
   "source": [
    "df.smoker.value_counts()"
   ]
  },
  {
   "cell_type": "code",
   "execution_count": 29,
   "id": "c1232626-66fa-400d-b32a-a7dbe28f0853",
   "metadata": {},
   "outputs": [
    {
     "data": {
      "text/html": [
       "<iframe\n",
       "    scrolling=\"no\"\n",
       "    width=\"100%\"\n",
       "    height=\"545px\"\n",
       "    src=\"iframe_figures/figure_29.html\"\n",
       "    frameborder=\"0\"\n",
       "    allowfullscreen\n",
       "></iframe>\n"
      ]
     },
     "metadata": {},
     "output_type": "display_data"
    }
   ],
   "source": [
    "px.histogram(df, x='smoker', title='Smoker',\n",
    "                   color='sex',color_discrete_sequence=['red','grey'])\n"
   ]
  },
  {
   "cell_type": "markdown",
   "id": "fdc0d7da-c2a8-4e93-9be2-9c398100ac4d",
   "metadata": {},
   "source": [
    "#### It appears that 20% of customers have reported that they smoke."
   ]
  },
  {
   "cell_type": "markdown",
   "id": "9d85e036-5aa0-4aa1-9f53-7194c8dcab60",
   "metadata": {},
   "source": [
    "## Correlation\n",
    "\n",
    ">As you can tell from the analysis, the values in some columns are more closely related to the values in \"charges\" compared to other columns. E.g. \"age\" and \"charges\" seem to grow together, whereas \"bmi\" and \"charges\" don't.\n",
    "\n",
    ">This relationship is often expressed numerically using a measure called the correlation coefficient, which can be computed using the .corr method of a Pandas series.\n",
    "\n",
    "#### We can measure correlation between two coulm using this function"
   ]
  },
  {
   "cell_type": "code",
   "execution_count": 32,
   "id": "4e6c9bef-90aa-4fca-870e-b4d95014fa6a",
   "metadata": {},
   "outputs": [
    {
     "data": {
      "text/plain": [
       "0.2990081933306476"
      ]
     },
     "execution_count": 32,
     "metadata": {},
     "output_type": "execute_result"
    }
   ],
   "source": [
    "df.charges.corr(df.age)"
   ]
  },
  {
   "cell_type": "code",
   "execution_count": 33,
   "id": "c63566d5-7b66-48a0-9bbc-0c886e51d919",
   "metadata": {},
   "outputs": [
    {
     "data": {
      "text/plain": [
       "0.19834096883362884"
      ]
     },
     "execution_count": 33,
     "metadata": {},
     "output_type": "execute_result"
    }
   ],
   "source": [
    "df.charges.corr(df.bmi)"
   ]
  },
  {
   "cell_type": "markdown",
   "id": "a73e5a19-ccf1-4b42-9fb0-094853b83de3",
   "metadata": {},
   "source": [
    "##### We can see there is definatly a higher correlation between age and charges than there is between chanrge and bmi"
   ]
  },
  {
   "cell_type": "markdown",
   "id": "fc28b456-01e3-4500-9784-b31bdfac0726",
   "metadata": {},
   "source": [
    "#### To compute the correlation for categorical columns, they must first be converted into numeric columns."
   ]
  },
  {
   "cell_type": "code",
   "execution_count": 36,
   "id": "b60e9ab3-0483-4246-8903-2827b69e88c7",
   "metadata": {},
   "outputs": [
    {
     "data": {
      "text/plain": [
       "0.7872514304984767"
      ]
     },
     "execution_count": 36,
     "metadata": {},
     "output_type": "execute_result"
    }
   ],
   "source": [
    "# Create a dictionary to map 'yes'/'no' values to 1/0 for numerical analysis\n",
    "smoker_values={'yes':1,'no':0}\n",
    "# Convert the categorical 'smoker' column to numeric values using the mapping\n",
    "smoker_numeric=df.smoker.map(smoker_values)\n",
    "# Calculate the correlation coefficient between insurance charges and smoking status\n",
    "df.charges.corr(smoker_numeric)"
   ]
  },
  {
   "cell_type": "markdown",
   "id": "a743c8a1-0e8c-4b0f-a6a0-072ea46f77db",
   "metadata": {},
   "source": [
    "#### Here's how correlation coefficients can be interpreted (source):\n",
    "\n",
    "#### Strength: The greater the absolute value of the correlation coefficient, the stronger the relationship.\n",
    "\n",
    ">The extreme values of -1 and 1 indicate a perfectly linear relationship where a change in one variable is accompanied by a perfectly consistent change in the other. For these relationships, all of the data points fall on a line. In practice, you won’t see either type of perfect relationship.\n",
    "\n",
    ">A coefficient of zero represents no linear relationship. As one variable increases, there is no tendency in the other variable to either increase or decrease.\n",
    "\n",
    ">When the value is in-between 0 and +1/-1, there is a relationship, but the points don’t all fall on a line. As r approaches -1 or 1, the strength of the relationship increases and the data points tend to fall closer to a line.\n",
    "\n",
    "#### Direction: The sign of the correlation coefficient represents the direction of the relationship.\n",
    "\n",
    ">Positive coefficients indicate that when the value of one variable increases, the value of the other variable also tends to increase. Positive relationships produce an upward slope on a scatterplot.\n",
    "\n",
    ">Negative coefficients represent cases when the value of one variable increases, the value of the other variable tends to decrease. Negative relationships produce a downward slope."
   ]
  },
  {
   "cell_type": "markdown",
   "id": "ba1934bc-9601-490b-bd40-2341f29bf2dd",
   "metadata": {},
   "source": [
    "<img src=\"correlation_rel_express.png\">"
   ]
  },
  {
   "cell_type": "markdown",
   "id": "2315eab4-e84e-4359-a24f-dac2e8421c4c",
   "metadata": {},
   "source": [
    "#### The correlation coefficient has the following formula:\n",
    "\n",
    "<img src=\"correlation_coefficient_formula.png\">"
   ]
  },
  {
   "cell_type": "markdown",
   "id": "4ea5ab65-0d1d-40f4-8f6b-8a4b3234dbe0",
   "metadata": {},
   "source": [
    "    Pandas dataframes also provide a .corr method to compute the correlation coefficients between all pairs of numeric columns."
   ]
  },
  {
   "cell_type": "code",
   "execution_count": 41,
   "id": "5a73ab17-5eed-48d4-b32b-edadaa31a5ad",
   "metadata": {},
   "outputs": [
    {
     "data": {
      "text/html": [
       "<div>\n",
       "<style scoped>\n",
       "    .dataframe tbody tr th:only-of-type {\n",
       "        vertical-align: middle;\n",
       "    }\n",
       "\n",
       "    .dataframe tbody tr th {\n",
       "        vertical-align: top;\n",
       "    }\n",
       "\n",
       "    .dataframe thead th {\n",
       "        text-align: right;\n",
       "    }\n",
       "</style>\n",
       "<table border=\"1\" class=\"dataframe\">\n",
       "  <thead>\n",
       "    <tr style=\"text-align: right;\">\n",
       "      <th></th>\n",
       "      <th>age</th>\n",
       "      <th>bmi</th>\n",
       "      <th>children</th>\n",
       "      <th>charges</th>\n",
       "    </tr>\n",
       "  </thead>\n",
       "  <tbody>\n",
       "    <tr>\n",
       "      <th>age</th>\n",
       "      <td>1.000000</td>\n",
       "      <td>0.109272</td>\n",
       "      <td>0.042469</td>\n",
       "      <td>0.299008</td>\n",
       "    </tr>\n",
       "    <tr>\n",
       "      <th>bmi</th>\n",
       "      <td>0.109272</td>\n",
       "      <td>1.000000</td>\n",
       "      <td>0.012759</td>\n",
       "      <td>0.198341</td>\n",
       "    </tr>\n",
       "    <tr>\n",
       "      <th>children</th>\n",
       "      <td>0.042469</td>\n",
       "      <td>0.012759</td>\n",
       "      <td>1.000000</td>\n",
       "      <td>0.067998</td>\n",
       "    </tr>\n",
       "    <tr>\n",
       "      <th>charges</th>\n",
       "      <td>0.299008</td>\n",
       "      <td>0.198341</td>\n",
       "      <td>0.067998</td>\n",
       "      <td>1.000000</td>\n",
       "    </tr>\n",
       "  </tbody>\n",
       "</table>\n",
       "</div>"
      ],
      "text/plain": [
       "               age       bmi  children   charges\n",
       "age       1.000000  0.109272  0.042469  0.299008\n",
       "bmi       0.109272  1.000000  0.012759  0.198341\n",
       "children  0.042469  0.012759  1.000000  0.067998\n",
       "charges   0.299008  0.198341  0.067998  1.000000"
      ]
     },
     "execution_count": 41,
     "metadata": {},
     "output_type": "execute_result"
    }
   ],
   "source": [
    "numeric_df = df.select_dtypes(include='number')\n",
    "correlation = numeric_df.corr()\n",
    "correlation"
   ]
  },
  {
   "cell_type": "markdown",
   "id": "fd7c68b4-fcb4-403d-b1e5-9b15ce462eb5",
   "metadata": {},
   "source": [
    ">we can see age has 0.29 correlation with charges\n",
    "\n",
    ">bmi has 0.19 correlation with charges\n",
    "\n",
    ">children has 0.06 correlation with charges\n",
    "\n",
    ">charges has 1.0 correlation with itself (Perfect positive correlation)\n"
   ]
  },
  {
   "cell_type": "markdown",
   "id": "d5f1586e-b3d8-4bf0-bb9d-211276adaab7",
   "metadata": {},
   "source": [
    "#### The result of .corr is called a correlation matrix and is often visualized using a heatmap."
   ]
  },
  {
   "cell_type": "code",
   "execution_count": 44,
   "id": "d79ec567-d7aa-473e-9cf7-e8e433ac2540",
   "metadata": {},
   "outputs": [
    {
     "data": {
      "image/png": "[encoded data removed]",
      "text/plain": [
       "<Figure size 1000x600 with 2 Axes>"
      ]
     },
     "metadata": {
      "needs_background": "light"
     },
     "output_type": "display_data"
    }
   ],
   "source": [
    "sns.heatmap(numeric_df.corr(), cmap='Reds', annot=True)\n",
    "plt.title('Correlation Matrix');"
   ]
  },
  {
   "cell_type": "markdown",
   "id": "4b0c63b5-a193-4b99-90da-ecec3a5cba60",
   "metadata": {},
   "source": [
    ">Correlation vs causation fallacy: Note that a high correlation cannot be used to interpret a cause-effect relationship between features. Two features X and Y can be correlated if X causes Y or if Y causes X, or if both are caused independently by some other factor Z, and the correlation will no longer hold true if one of the cause-effect relationships is broken. It's also possible that X are Y simply appear to be correlated because the sample is too small.\n",
    "\n",
    ">While this may seem obvious, computers can't differentiate between correlation and causation, and decisions based on automated system can often have major consequences on society, so it's important to study why automated systems lead to a given result. Determining cause-effect relationships requires human insight."
   ]
  },
  {
   "cell_type": "markdown",
   "id": "aaa84efc-c1bb-46fb-9703-50c03683963c",
   "metadata": {},
   "source": [
    "# Linear Regression using a Single Feature\n",
    "\n",
    "    We now know that the \"smoker\" and \"age\" columns have the strongest correlation with \"charges\". Let's try to find a way of estimating the value of \"charges\" using the value of \"age\" for non-smokers. First, let's create a data frame containing just the data for non-smokers.."
   ]
  },
  {
   "cell_type": "code",
   "execution_count": 47,
   "id": "de0d477c-72bb-454a-ac27-299c086276dd",
   "metadata": {},
   "outputs": [
    {
     "data": {
      "text/html": [
       "<div>\n",
       "<style scoped>\n",
       "    .dataframe tbody tr th:only-of-type {\n",
       "        vertical-align: middle;\n",
       "    }\n",
       "\n",
       "    .dataframe tbody tr th {\n",
       "        vertical-align: top;\n",
       "    }\n",
       "\n",
       "    .dataframe thead th {\n",
       "        text-align: right;\n",
       "    }\n",
       "</style>\n",
       "<table border=\"1\" class=\"dataframe\">\n",
       "  <thead>\n",
       "    <tr style=\"text-align: right;\">\n",
       "      <th></th>\n",
       "      <th>age</th>\n",
       "      <th>sex</th>\n",
       "      <th>bmi</th>\n",
       "      <th>children</th>\n",
       "      <th>smoker</th>\n",
       "      <th>region</th>\n",
       "      <th>charges</th>\n",
       "    </tr>\n",
       "  </thead>\n",
       "  <tbody>\n",
       "    <tr>\n",
       "      <th>1</th>\n",
       "      <td>18</td>\n",
       "      <td>male</td>\n",
       "      <td>33.770</td>\n",
       "      <td>1</td>\n",
       "      <td>no</td>\n",
       "      <td>southeast</td>\n",
       "      <td>1725.55230</td>\n",
       "    </tr>\n",
       "    <tr>\n",
       "      <th>2</th>\n",
       "      <td>28</td>\n",
       "      <td>male</td>\n",
       "      <td>33.000</td>\n",
       "      <td>3</td>\n",
       "      <td>no</td>\n",
       "      <td>southeast</td>\n",
       "      <td>4449.46200</td>\n",
       "    </tr>\n",
       "    <tr>\n",
       "      <th>3</th>\n",
       "      <td>33</td>\n",
       "      <td>male</td>\n",
       "      <td>22.705</td>\n",
       "      <td>0</td>\n",
       "      <td>no</td>\n",
       "      <td>northwest</td>\n",
       "      <td>21984.47061</td>\n",
       "    </tr>\n",
       "    <tr>\n",
       "      <th>4</th>\n",
       "      <td>32</td>\n",
       "      <td>male</td>\n",
       "      <td>28.880</td>\n",
       "      <td>0</td>\n",
       "      <td>no</td>\n",
       "      <td>northwest</td>\n",
       "      <td>3866.85520</td>\n",
       "    </tr>\n",
       "    <tr>\n",
       "      <th>5</th>\n",
       "      <td>31</td>\n",
       "      <td>female</td>\n",
       "      <td>25.740</td>\n",
       "      <td>0</td>\n",
       "      <td>no</td>\n",
       "      <td>southeast</td>\n",
       "      <td>3756.62160</td>\n",
       "    </tr>\n",
       "    <tr>\n",
       "      <th>...</th>\n",
       "      <td>...</td>\n",
       "      <td>...</td>\n",
       "      <td>...</td>\n",
       "      <td>...</td>\n",
       "      <td>...</td>\n",
       "      <td>...</td>\n",
       "      <td>...</td>\n",
       "    </tr>\n",
       "    <tr>\n",
       "      <th>1332</th>\n",
       "      <td>52</td>\n",
       "      <td>female</td>\n",
       "      <td>44.700</td>\n",
       "      <td>3</td>\n",
       "      <td>no</td>\n",
       "      <td>southwest</td>\n",
       "      <td>11411.68500</td>\n",
       "    </tr>\n",
       "    <tr>\n",
       "      <th>1333</th>\n",
       "      <td>50</td>\n",
       "      <td>male</td>\n",
       "      <td>30.970</td>\n",
       "      <td>3</td>\n",
       "      <td>no</td>\n",
       "      <td>northwest</td>\n",
       "      <td>10600.54830</td>\n",
       "    </tr>\n",
       "    <tr>\n",
       "      <th>1334</th>\n",
       "      <td>18</td>\n",
       "      <td>female</td>\n",
       "      <td>31.920</td>\n",
       "      <td>0</td>\n",
       "      <td>no</td>\n",
       "      <td>northeast</td>\n",
       "      <td>2205.98080</td>\n",
       "    </tr>\n",
       "    <tr>\n",
       "      <th>1335</th>\n",
       "      <td>18</td>\n",
       "      <td>female</td>\n",
       "      <td>36.850</td>\n",
       "      <td>0</td>\n",
       "      <td>no</td>\n",
       "      <td>southeast</td>\n",
       "      <td>1629.83350</td>\n",
       "    </tr>\n",
       "    <tr>\n",
       "      <th>1336</th>\n",
       "      <td>21</td>\n",
       "      <td>female</td>\n",
       "      <td>25.800</td>\n",
       "      <td>0</td>\n",
       "      <td>no</td>\n",
       "      <td>southwest</td>\n",
       "      <td>2007.94500</td>\n",
       "    </tr>\n",
       "  </tbody>\n",
       "</table>\n",
       "<p>1064 rows × 7 columns</p>\n",
       "</div>"
      ],
      "text/plain": [
       "      age     sex     bmi  children smoker     region      charges\n",
       "1      18    male  33.770         1     no  southeast   1725.55230\n",
       "2      28    male  33.000         3     no  southeast   4449.46200\n",
       "3      33    male  22.705         0     no  northwest  21984.47061\n",
       "4      32    male  28.880         0     no  northwest   3866.85520\n",
       "5      31  female  25.740         0     no  southeast   3756.62160\n",
       "...   ...     ...     ...       ...    ...        ...          ...\n",
       "1332   52  female  44.700         3     no  southwest  11411.68500\n",
       "1333   50    male  30.970         3     no  northwest  10600.54830\n",
       "1334   18  female  31.920         0     no  northeast   2205.98080\n",
       "1335   18  female  36.850         0     no  southeast   1629.83350\n",
       "1336   21  female  25.800         0     no  southwest   2007.94500\n",
       "\n",
       "[1064 rows x 7 columns]"
      ]
     },
     "execution_count": 47,
     "metadata": {},
     "output_type": "execute_result"
    }
   ],
   "source": [
    "non_smoker_df=df[df['smoker']=='no']\n",
    "non_smoker_df"
   ]
  },
  {
   "cell_type": "markdown",
   "id": "af16a97a-5140-41dd-a294-3f3f815b7780",
   "metadata": {},
   "source": [
    "    Next, let's visualize the relationship between \"age\" and \"charges\""
   ]
  },
  {
   "cell_type": "code",
   "execution_count": 49,
   "id": "13b17ad4-1481-462d-8ffe-efb58416ecb0",
   "metadata": {},
   "outputs": [
    {
     "data": {
      "text/html": [
       "<iframe\n",
       "    scrolling=\"no\"\n",
       "    width=\"100%\"\n",
       "    height=\"545px\"\n",
       "    src=\"iframe_figures/figure_49.html\"\n",
       "    frameborder=\"0\"\n",
       "    allowfullscreen\n",
       "></iframe>\n"
      ]
     },
     "metadata": {},
     "output_type": "display_data"
    }
   ],
   "source": [
    "fig = px.scatter(non_smoker_df, x='age', y='charges', \n",
    "                 title='Age vs Medical Charges for non-smoker',\n",
    "                 trendline='ols')  # Adds a regression line\n",
    "                \n",
    "\n",
    "fig.show()"
   ]
  },
  {
   "cell_type": "markdown",
   "id": "b57a7327-dc24-42aa-8622-941277126163",
   "metadata": {},
   "source": [
    "    Apart from a few exceptions, the points seem to form a line. We'll try and \"fit\" a line using this points, and use the line to predict charges for a given age. A line on the X&Y coordinates has the following formula:\n",
    "  #### y=wx+b\n",
    "    The line is characterized two numbers: w (called \"slope\") and b (called \"intercept\").\n",
    "\n",
    "### Model\n",
    "    In the above case, the x axis shows \"age\" and the y axis shows \"charges\". Thus, we're assume the following relationship between the two:\n",
    "  #### charges=w×age+b\n",
    "\n",
    "    We'll try determine w and b for the line that best fits the data.\n",
    "\n",
    ">This technique is called linear regression, and we call the above equation a linear regression model, because it models the relationship between \"age\" and \"charges\" as a straight line.\n",
    "\n",
    ">The numbers w and b are called the parameters or weights of the model.\n",
    "\n",
    ">The values in the \"age\" column of the dataset are called the inputs to the model and the values in the charges column are called \"targets\".\n",
    "\n",
    "    Let define a helper function estimate_charges, to compute charges,given age,w and b\n",
    "\n"
   ]
  },
  {
   "cell_type": "code",
   "execution_count": 51,
   "id": "44be51d1-2d2b-4351-95f1-27c3d3121292",
   "metadata": {},
   "outputs": [],
   "source": [
    "def estimate_charges(age,w,b):\n",
    "    return w*age+b"
   ]
  },
  {
   "cell_type": "markdown",
   "id": "a3514cbb-00f0-4788-a5da-7211664efd34",
   "metadata": {},
   "source": [
    "    The estimate_charges function is our very first model.\n",
    "    Let's guess the values for w (weights ) and b (bias) and use them to estimate the value for charges.\n",
    "\n",
    "> “Weight tells how fast the output changes when input changes.”\n",
    "\n",
    "> “Bias is like lifting the whole line up or down.”"
   ]
  },
  {
   "cell_type": "markdown",
   "id": "ea89738b-6860-4c18-b75f-e08b9b2b26c9",
   "metadata": {},
   "source": [
    "#### to understand weight, bias, and linear regression. Let’s make it super real and simple with our insurance data! 🧾💉💰\n",
    "\n",
    "    What You’re Doing:\n",
    "    You have:\n",
    "\n",
    "    age ➡️ how old the person is\n",
    "    charges ➡️ how much they paid (or were charged) for insurance\n",
    "\n",
    "    You want to predict insurance charges using someone’s age — and that’s where linear regression comes in!\n",
    "\n",
    ">📈 The Formula:charges=(weight×age)+bias\n",
    "\n",
    "    Don’t worry! Let’s break this down like a story.\n",
    "\n",
    "    🧸 Imagine This: You're drawing a line to guess charges based on age. This line goes up because usually, older people = more charges.\n",
    "\n",
    "    🤔 So what do weight and bias do here?\n",
    ">🔹 Weight (W):\n",
    "This decides how strongly age affects charges\n",
    "→ Bigger weight = \"If age increases, charges increase A LOT\"\n",
    "→ Smaller weight = \"If age increases, charges increase just a little\"\n",
    "\n",
    ">🔹 Bias (b):\n",
    "This tells where the line starts\n",
    "→ Even at age 0, a person might still have some base charge — bias adds that starting value\n",
    "\n",
    "    ✅ Real-world Example:\n",
    "    Let’s say your model finds: charges=250×age+3000\n",
    "    This means: For every 1 year older → charges go up by ₹250\n",
    "    Even a newborn (age = 0) has a base charge of ₹3000 (maybe for registration or minimum policy)\n",
    "\n",
    "    🔧 scikit-learn will automatically find the best weight & bias\n",
    "    You don’t choose them manually. It looks at all your data and picks values that make the line fit best (so the prediction is close to real charges).\n",
    "\n"
   ]
  },
  {
   "cell_type": "code",
   "execution_count": 54,
   "id": "814dbf6c-3e92-482f-b825-cf44cb02c4cb",
   "metadata": {},
   "outputs": [],
   "source": [
    "w=50\n",
    "b=100"
   ]
  },
  {
   "cell_type": "code",
   "execution_count": 55,
   "id": "ab17165e-3717-4210-b600-bec874010767",
   "metadata": {},
   "outputs": [
    {
     "data": {
      "text/plain": [
       "1600"
      ]
     },
     "execution_count": 55,
     "metadata": {},
     "output_type": "execute_result"
    }
   ],
   "source": [
    "estimate_charges(30,w,b)"
   ]
  },
  {
   "cell_type": "code",
   "execution_count": 56,
   "id": "147dac0a-a4df-4cd2-ba90-94c66bf4e37c",
   "metadata": {},
   "outputs": [
    {
     "data": {
      "text/plain": [
       "1       1000\n",
       "2       1500\n",
       "3       1750\n",
       "4       1700\n",
       "5       1650\n",
       "        ... \n",
       "1332    2700\n",
       "1333    2600\n",
       "1334    1000\n",
       "1335    1000\n",
       "1336    1150\n",
       "Name: age, Length: 1064, dtype: int64"
      ]
     },
     "execution_count": 56,
     "metadata": {},
     "output_type": "execute_result"
    }
   ],
   "source": [
    "ages=non_smoker_df.age\n",
    "estimated_charges=estimate_charges(ages,w,b)\n",
    "estimated_charges"
   ]
  },
  {
   "cell_type": "code",
   "execution_count": 57,
   "id": "89d4d328-7106-4708-af16-5faa378de71b",
   "metadata": {},
   "outputs": [
    {
     "data": {
      "text/plain": [
       "1        1725.55230\n",
       "2        4449.46200\n",
       "3       21984.47061\n",
       "4        3866.85520\n",
       "5        3756.62160\n",
       "           ...     \n",
       "1332    11411.68500\n",
       "1333    10600.54830\n",
       "1334     2205.98080\n",
       "1335     1629.83350\n",
       "1336     2007.94500\n",
       "Name: charges, Length: 1064, dtype: float64"
      ]
     },
     "execution_count": 57,
     "metadata": {},
     "output_type": "execute_result"
    }
   ],
   "source": [
    "non_smoker_df.charges"
   ]
  },
  {
   "cell_type": "markdown",
   "id": "69836895-0256-41c0-a4e7-f0002f6cda03",
   "metadata": {},
   "source": [
    "    we can see we are too far from the actual charges\n",
    "    we can plot the estimated charges using a line graph."
   ]
  },
  {
   "cell_type": "code",
   "execution_count": 59,
   "id": "38ffd1a7-a6d4-4800-92f8-1cc1c7357aef",
   "metadata": {},
   "outputs": [
    {
     "data": {
      "image/png": "[encoded data removed]",
      "text/plain": [
       "<Figure size 1000x600 with 1 Axes>"
      ]
     },
     "metadata": {
      "needs_background": "light"
     },
     "output_type": "display_data"
    }
   ],
   "source": [
    "plt.plot(ages,estimated_charges,'r-o')\n",
    "plt.ylabel('Age')\n",
    "plt.ylabel('Estimated Charges')\n",
    "plt.show()"
   ]
  },
  {
   "cell_type": "markdown",
   "id": "4cff1c36-5b50-4b62-a6ca-986195122b75",
   "metadata": {},
   "source": [
    "    As expected, the points lie on a straight line.\n",
    "\n",
    "    We can overlay this line on the actual data, so see how well our model fits the data."
   ]
  },
  {
   "cell_type": "code",
   "execution_count": 61,
   "id": "bd8d47b3-6430-491f-b4e2-c45e12213046",
   "metadata": {},
   "outputs": [
    {
     "data": {
      "image/png": "[encoded data removed]",
      "text/plain": [
       "<Figure size 1000x600 with 1 Axes>"
      ]
     },
     "metadata": {
      "needs_background": "light"
     },
     "output_type": "display_data"
    }
   ],
   "source": [
    "target = non_smoker_df.charges\n",
    "\n",
    "plt.plot(ages, estimated_charges, 'r', alpha=0.9);\n",
    "plt.scatter(ages, target, s=8,alpha=0.8);\n",
    "plt.xlabel('Age');\n",
    "plt.ylabel('Charges')\n",
    "plt.legend(['Estimate', 'Actual']);\n",
    "plt.show()"
   ]
  },
  {
   "cell_type": "markdown",
   "id": "62433908-9e94-4e32-84ac-f30c7346d0aa",
   "metadata": {},
   "source": [
    "    Clearly, the our estimates are quite poor and the line does not \"fit\" the data. However, we can try different values of w and b to move the line around. Let's define a helper function try_parameters which takes w and b as inputs and creates the above plot."
   ]
  },
  {
   "cell_type": "code",
   "execution_count": 63,
   "id": "fa4c846d-4c96-4e3d-9cba-a647082df45b",
   "metadata": {},
   "outputs": [],
   "source": [
    "def try_parameter(w,b):\n",
    "    ages=non_smoker_df.age\n",
    "    target=non_smoker_df.charges\n",
    "\n",
    "    estimated_charges=estimate_charges(ages,w,b)\n",
    "    plt.plot(ages, estimated_charges, 'r', alpha=0.9);\n",
    "    plt.scatter(ages, target, s=8,alpha=0.8);\n",
    "    plt.xlabel('Age');\n",
    "    plt.ylabel('Charges')\n",
    "    plt.legend(['Estimate', 'Actual']);\n",
    "    plt.show()"
   ]
  },
  {
   "cell_type": "code",
   "execution_count": 64,
   "id": "07059d21-eb5c-413b-978d-cc81e6509f84",
   "metadata": {},
   "outputs": [
    {
     "data": {
      "image/png": "[encoded data removed]",
      "text/plain": [
       "<Figure size 1000x600 with 1 Axes>"
      ]
     },
     "metadata": {
      "needs_background": "light"
     },
     "output_type": "display_data"
    }
   ],
   "source": [
    "#we can try various values of w and b to find a line that best fits the data.\n",
    "try_parameter(300,-4000) "
   ]
  },
  {
   "cell_type": "markdown",
   "id": "67ac732e-b94f-4474-8b23-a38ebf25d710",
   "metadata": {},
   "source": [
    "    As we change the values, of w and b manually, trying to move the line visually closer to the points, we are learning the approximate relationship between \"age\" and \"charges\".\n",
    "\n",
    "    Wouldn't it be nice if a computer could try several different values of w and b and learn the relationship between \"age\" and \"charges\"? To do this, we need to solve a couple of problems:\n",
    "\n",
    ">We need a way to measure numerically how well the line fits the points.\n",
    "\n",
    ">Once the \"measure of fit\" has been computed, we need a way to modify w and b to improve the the fit.\n",
    "\n",
    "    If we can solve the above problems, it should be possible for a computer to determine w and b for the best fit line, starting from a random guess.\n",
    "\n",
    "## Loss/Cost Function\n",
    "    We can compare our model's predictions with the actual targets using the following method:\n",
    "\n",
    ">Calculate the difference between the targets and predictions (the differenced is called the \"residual\")\n",
    "\n",
    ">Square all elements of the difference matrix to remove negative values.\n",
    "\n",
    ">Calculate the average of the elements in the resulting matrix.\n",
    "\n",
    ">Take the square root of the result\n",
    "\n",
    "    The result is a single number, known as the root mean squared error (RMSE). The above description can be stated mathematically as follows:\n",
    "\n"
   ]
  },
  {
   "cell_type": "markdown",
   "id": "f773da3c-dcbf-4fea-8bae-eb1569f274a7",
   "metadata": {},
   "source": [
    "<img src=\"RMSE.png\">\n"
   ]
  },
  {
   "cell_type": "markdown",
   "id": "79dd28f2-2fea-43f2-8b8e-86df2ba7a88e",
   "metadata": {},
   "source": [
    "    Geometrically, the residuals can be visualized as follows:\n",
    " <img src=\"residuals.png\">\n"
   ]
  },
  {
   "cell_type": "code",
   "execution_count": 68,
   "id": "f34c1487-1a86-4a76-b7d1-54fd17431269",
   "metadata": {},
   "outputs": [
    {
     "data": {
      "text/plain": [
       "1        1725.55230\n",
       "2        4449.46200\n",
       "3       21984.47061\n",
       "4        3866.85520\n",
       "5        3756.62160\n",
       "           ...     \n",
       "1332    11411.68500\n",
       "1333    10600.54830\n",
       "1334     2205.98080\n",
       "1335     1629.83350\n",
       "1336     2007.94500\n",
       "Name: charges, Length: 1064, dtype: float64"
      ]
     },
     "execution_count": 68,
     "metadata": {},
     "output_type": "execute_result"
    }
   ],
   "source": [
    "target #non_smoker.charges"
   ]
  },
  {
   "cell_type": "code",
   "execution_count": 69,
   "id": "f597d303-34e1-41e8-9c83-751c73cfcb88",
   "metadata": {},
   "outputs": [
    {
     "data": {
      "text/plain": [
       "1       1000\n",
       "2       1500\n",
       "3       1750\n",
       "4       1700\n",
       "5       1650\n",
       "        ... \n",
       "1332    2700\n",
       "1333    2600\n",
       "1334    1000\n",
       "1335    1000\n",
       "1336    1150\n",
       "Name: age, Length: 1064, dtype: int64"
      ]
     },
     "execution_count": 69,
     "metadata": {},
     "output_type": "execute_result"
    }
   ],
   "source": [
    "predictions=estimated_charges #this on for the w=50 and b=100 we calculate initially\n",
    "predictions"
   ]
  },
  {
   "cell_type": "markdown",
   "id": "9755f517-ebfa-4ae6-b889-ed335a816314",
   "metadata": {},
   "source": [
    "    lets defined a function to computethe RMSE"
   ]
  },
  {
   "cell_type": "code",
   "execution_count": 71,
   "id": "b99d9351-009a-4a57-a4a5-1f2ee512b83f",
   "metadata": {},
   "outputs": [],
   "source": [
    "def rmse(targets,predictions):\n",
    "    return np.sqrt(np.mean(np.square(targets-predictions)))"
   ]
  },
  {
   "cell_type": "markdown",
   "id": "d9680e7f-9b4e-4547-b61d-aebb0988335a",
   "metadata": {},
   "source": [
    "    Let's compute the RMSE for our model with a sample set of weights"
   ]
  },
  {
   "cell_type": "code",
   "execution_count": 73,
   "id": "64ef9355-86ee-473e-a952-168aac1c5736",
   "metadata": {},
   "outputs": [
    {
     "data": {
      "text/plain": [
       "8461.949562575493"
      ]
     },
     "execution_count": 73,
     "metadata": {},
     "output_type": "execute_result"
    }
   ],
   "source": [
    "rmse(target,predictions)"
   ]
  },
  {
   "cell_type": "markdown",
   "id": "712cbd45-4b08-4f6d-a6ad-624d9e6e570e",
   "metadata": {},
   "source": [
    "    Here's how we can interpret the above number: On average, each element in the prediction differs from the actual target by \\$8461.\n",
    "\n",
    "    The result is called the loss because it indicates how bad the model is at predicting the target variables. It represents information loss in the model: the lower the loss, the better the model.\n",
    "\n",
    "    Let's modify the try_parameters functions to also display the loss."
   ]
  },
  {
   "cell_type": "code",
   "execution_count": 75,
   "id": "27eb6255-d526-45d7-a751-c8f01df1a315",
   "metadata": {},
   "outputs": [],
   "source": [
    "def try_parameter(w,b):\n",
    "    ages=non_smoker_df.age\n",
    "    target=non_smoker_df.charges\n",
    "    predictions=estimate_charges(ages,w,b)\n",
    "\n",
    "    plt.plot(ages, predictions, 'r', alpha=0.9);\n",
    "    plt.scatter(ages, target, s=8,alpha=0.8);\n",
    "    plt.xlabel('Age');\n",
    "    plt.ylabel('Charges')\n",
    "    plt.legend(['Prediction', 'Actual']);\n",
    "    plt.show()\n",
    "\n",
    "    loss=rmse(target,predictions)\n",
    "    print(\"RMSE Loss: \",loss)"
   ]
  },
  {
   "cell_type": "code",
   "execution_count": 76,
   "id": "5d94efa2-246d-4b53-95be-01ac431d886a",
   "metadata": {},
   "outputs": [
    {
     "data": {
      "image/png": "[encoded data removed]",
      "text/plain": [
       "<Figure size 1000x600 with 1 Axes>"
      ]
     },
     "metadata": {
      "needs_background": "light"
     },
     "output_type": "display_data"
    },
    {
     "name": "stdout",
     "output_type": "stream",
     "text": [
      "RMSE Loss:  8461.949562575493\n"
     ]
    }
   ],
   "source": [
    "try_parameter(50,100)"
   ]
  },
  {
   "cell_type": "code",
   "execution_count": 77,
   "id": "886c96c3-c322-44eb-aecf-09f4197d1288",
   "metadata": {},
   "outputs": [
    {
     "data": {
      "image/png": "[encoded data removed]",
      "text/plain": [
       "<Figure size 1000x600 with 1 Axes>"
      ]
     },
     "metadata": {
      "needs_background": "light"
     },
     "output_type": "display_data"
    },
    {
     "name": "stdout",
     "output_type": "stream",
     "text": [
      "RMSE Loss:  4724.292411612061\n"
     ]
    }
   ],
   "source": [
    "try_parameter(320,-4000)"
   ]
  },
  {
   "cell_type": "markdown",
   "id": "62041ca3-5265-4f10-97e1-e62e6f1c4cef",
   "metadata": {},
   "source": [
    "## Optimizer\n",
    "    Next, we need a strategy to modify weights w and b to reduce the loss and improve the \"fit\" of the line to the data.\n",
    "\n",
    ">Ordinary Least Squares: https://www.youtube.com/watch?v=szXbuO3bVRk (better for smaller datasets)\n",
    "\n",
    ">Stochastic gradient descent: https://www.youtube.com/watch?v=sDv4f4s2SB8 (better for larger datasets)\n",
    "\n",
    "        Both of these have the same objective: to minimize the loss, however, while ordinary least squares directly computes the best values for w and b using matrix operations, while gradient descent uses a iterative approach, starting with a random values of w and b and slowly improving them using derivatives."
   ]
  },
  {
   "cell_type": "markdown",
   "id": "985fab01-070a-47b6-90e6-d306a04deb6c",
   "metadata": {},
   "source": [
    "# Linear Regression using Scikit-learn\n",
    "    In practice, you'll never need to implement either of the above methods yourself. You can use a library like scikit-learn to do this for you.\n",
    "    \n",
    "    Let's use the LinearRegression class from scikit-learn to find the best fit line for \"age\" vs. \"charges\" using the ordinary least squares optimization technique."
   ]
  },
  {
   "cell_type": "code",
   "execution_count": 80,
   "id": "7de1049a-d18e-404d-8798-bc2ea61b5640",
   "metadata": {},
   "outputs": [],
   "source": [
    "from sklearn.linear_model import LinearRegression"
   ]
  },
  {
   "cell_type": "markdown",
   "id": "d9b72f38-3906-4017-b1f9-ec46ca2c3e5d",
   "metadata": {},
   "source": [
    "    First, we create a new model object."
   ]
  },
  {
   "cell_type": "code",
   "execution_count": 82,
   "id": "93598e04-d08d-4282-a513-4f78ae7f3d13",
   "metadata": {},
   "outputs": [],
   "source": [
    "model=LinearRegression()  "
   ]
  },
  {
   "cell_type": "markdown",
   "id": "339c87f1-852e-435f-aa50-55e23b0e7e7f",
   "metadata": {},
   "source": [
    ">When we said model=LinearRegression() we alreday mentioned to scikit-leaarn that we want to assume a linear a linear relationship between our inputs and targets. That means we want our targets which is charges to be w*age+b"
   ]
  },
  {
   "cell_type": "markdown",
   "id": "e6d193b0-e9bd-41e4-a489-3a2ef7eaa83b",
   "metadata": {},
   "source": [
    "    Next, we can use the fit method of the model to find the best fit line for the inputs and targets."
   ]
  },
  {
   "cell_type": "code",
   "execution_count": 85,
   "id": "ca650d08-b8fc-47d7-af0f-74ba13efbe93",
   "metadata": {},
   "outputs": [
    {
     "name": "stdout",
     "output_type": "stream",
     "text": [
      "Help on method fit in module sklearn.linear_model._base:\n",
      "\n",
      "fit(X, y, sample_weight=None) method of sklearn.linear_model._base.LinearRegression instance\n",
      "    Fit linear model.\n",
      "\n",
      "    Parameters\n",
      "    ----------\n",
      "    X : {array-like, sparse matrix} of shape (n_samples, n_features)\n",
      "        Training data.\n",
      "\n",
      "    y : array-like of shape (n_samples,) or (n_samples, n_targets)\n",
      "        Target values. Will be cast to X's dtype if necessary.\n",
      "\n",
      "    sample_weight : array-like of shape (n_samples,), default=None\n",
      "        Individual weights for each sample.\n",
      "\n",
      "        .. versionadded:: 0.17\n",
      "           parameter *sample_weight* support to LinearRegression.\n",
      "\n",
      "    Returns\n",
      "    -------\n",
      "    self : object\n",
      "        Fitted Estimator.\n",
      "\n"
     ]
    }
   ],
   "source": [
    "help(model.fit)"
   ]
  },
  {
   "cell_type": "markdown",
   "id": "515fa175-53df-4ac4-8a4b-51e7012aa925",
   "metadata": {},
   "source": [
    "    Not that the input X must be a 2-d array, so we'll need to pass a dataframe, instead of a single column."
   ]
  },
  {
   "cell_type": "code",
   "execution_count": 87,
   "id": "b35cf9b9-c182-4643-9a7d-4f72af2fb850",
   "metadata": {},
   "outputs": [
    {
     "name": "stdout",
     "output_type": "stream",
     "text": [
      "inputs.shape : (1064, 1)\n",
      "targes.shape : (1064,)\n"
     ]
    }
   ],
   "source": [
    "#lets create input and targets\n",
    "inputs=non_smoker_df[['age']]\n",
    "targets=non_smoker_df.charges\n",
    "\n",
    "print('inputs.shape :', inputs.shape)\n",
    "print('targes.shape :', targets.shape)"
   ]
  },
  {
   "cell_type": "code",
   "execution_count": 88,
   "id": "ddda6767-81df-486a-aa94-41c0eb5b23c2",
   "metadata": {},
   "outputs": [
    {
     "data": {
      "text/html": [
       "<div>\n",
       "<style scoped>\n",
       "    .dataframe tbody tr th:only-of-type {\n",
       "        vertical-align: middle;\n",
       "    }\n",
       "\n",
       "    .dataframe tbody tr th {\n",
       "        vertical-align: top;\n",
       "    }\n",
       "\n",
       "    .dataframe thead th {\n",
       "        text-align: right;\n",
       "    }\n",
       "</style>\n",
       "<table border=\"1\" class=\"dataframe\">\n",
       "  <thead>\n",
       "    <tr style=\"text-align: right;\">\n",
       "      <th></th>\n",
       "      <th>age</th>\n",
       "    </tr>\n",
       "  </thead>\n",
       "  <tbody>\n",
       "    <tr>\n",
       "      <th>1</th>\n",
       "      <td>18</td>\n",
       "    </tr>\n",
       "    <tr>\n",
       "      <th>2</th>\n",
       "      <td>28</td>\n",
       "    </tr>\n",
       "    <tr>\n",
       "      <th>3</th>\n",
       "      <td>33</td>\n",
       "    </tr>\n",
       "    <tr>\n",
       "      <th>4</th>\n",
       "      <td>32</td>\n",
       "    </tr>\n",
       "    <tr>\n",
       "      <th>5</th>\n",
       "      <td>31</td>\n",
       "    </tr>\n",
       "    <tr>\n",
       "      <th>...</th>\n",
       "      <td>...</td>\n",
       "    </tr>\n",
       "    <tr>\n",
       "      <th>1332</th>\n",
       "      <td>52</td>\n",
       "    </tr>\n",
       "    <tr>\n",
       "      <th>1333</th>\n",
       "      <td>50</td>\n",
       "    </tr>\n",
       "    <tr>\n",
       "      <th>1334</th>\n",
       "      <td>18</td>\n",
       "    </tr>\n",
       "    <tr>\n",
       "      <th>1335</th>\n",
       "      <td>18</td>\n",
       "    </tr>\n",
       "    <tr>\n",
       "      <th>1336</th>\n",
       "      <td>21</td>\n",
       "    </tr>\n",
       "  </tbody>\n",
       "</table>\n",
       "<p>1064 rows × 1 columns</p>\n",
       "</div>"
      ],
      "text/plain": [
       "      age\n",
       "1      18\n",
       "2      28\n",
       "3      33\n",
       "4      32\n",
       "5      31\n",
       "...   ...\n",
       "1332   52\n",
       "1333   50\n",
       "1334   18\n",
       "1335   18\n",
       "1336   21\n",
       "\n",
       "[1064 rows x 1 columns]"
      ]
     },
     "execution_count": 88,
     "metadata": {},
     "output_type": "execute_result"
    }
   ],
   "source": [
    "inputs #2D array or dataframe"
   ]
  },
  {
   "cell_type": "markdown",
   "id": "5e865ec3-29b4-47a6-8923-d3ed68fed3eb",
   "metadata": {},
   "source": [
    "    Let's fit the model to the data."
   ]
  },
  {
   "cell_type": "code",
   "execution_count": 90,
   "id": "61e5c2e0-2970-4cff-928d-4c061873b616",
   "metadata": {},
   "outputs": [
    {
     "data": {
      "text/html": [
       "<style>#sk-container-id-1 {\n",
       "  /* Definition of color scheme common for light and dark mode */\n",
       "  --sklearn-color-text: black;\n",
       "  --sklearn-color-line: gray;\n",
       "  /* Definition of color scheme for unfitted estimators */\n",
       "  --sklearn-color-unfitted-level-0: #fff5e6;\n",
       "  --sklearn-color-unfitted-level-1: #f6e4d2;\n",
       "  --sklearn-color-unfitted-level-2: #ffe0b3;\n",
       "  --sklearn-color-unfitted-level-3: chocolate;\n",
       "  /* Definition of color scheme for fitted estimators */\n",
       "  --sklearn-color-fitted-level-0: #f0f8ff;\n",
       "  --sklearn-color-fitted-level-1: #d4ebff;\n",
       "  --sklearn-color-fitted-level-2: #b3dbfd;\n",
       "  --sklearn-color-fitted-level-3: cornflowerblue;\n",
       "\n",
       "  /* Specific color for light theme */\n",
       "  --sklearn-color-text-on-default-background: var(--sg-text-color, var(--theme-code-foreground, var(--jp-content-font-color1, black)));\n",
       "  --sklearn-color-background: var(--sg-background-color, var(--theme-background, var(--jp-layout-color0, white)));\n",
       "  --sklearn-color-border-box: var(--sg-text-color, var(--theme-code-foreground, var(--jp-content-font-color1, black)));\n",
       "  --sklearn-color-icon: #696969;\n",
       "\n",
       "  @media (prefers-color-scheme: dark) {\n",
       "    /* Redefinition of color scheme for dark theme */\n",
       "    --sklearn-color-text-on-default-background: var(--sg-text-color, var(--theme-code-foreground, var(--jp-content-font-color1, white)));\n",
       "    --sklearn-color-background: var(--sg-background-color, var(--theme-background, var(--jp-layout-color0, #111)));\n",
       "    --sklearn-color-border-box: var(--sg-text-color, var(--theme-code-foreground, var(--jp-content-font-color1, white)));\n",
       "    --sklearn-color-icon: #878787;\n",
       "  }\n",
       "}\n",
       "\n",
       "#sk-container-id-1 {\n",
       "  color: var(--sklearn-color-text);\n",
       "}\n",
       "\n",
       "#sk-container-id-1 pre {\n",
       "  padding: 0;\n",
       "}\n",
       "\n",
       "#sk-container-id-1 input.sk-hidden--visually {\n",
       "  border: 0;\n",
       "  clip: rect(1px 1px 1px 1px);\n",
       "  clip: rect(1px, 1px, 1px, 1px);\n",
       "  height: 1px;\n",
       "  margin: -1px;\n",
       "  overflow: hidden;\n",
       "  padding: 0;\n",
       "  position: absolute;\n",
       "  width: 1px;\n",
       "}\n",
       "\n",
       "#sk-container-id-1 div.sk-dashed-wrapped {\n",
       "  border: 1px dashed var(--sklearn-color-line);\n",
       "  margin: 0 0.4em 0.5em 0.4em;\n",
       "  box-sizing: border-box;\n",
       "  padding-bottom: 0.4em;\n",
       "  background-color: var(--sklearn-color-background);\n",
       "}\n",
       "\n",
       "#sk-container-id-1 div.sk-container {\n",
       "  /* jupyter's `normalize.less` sets `[hidden] { display: none; }`\n",
       "     but bootstrap.min.css set `[hidden] { display: none !important; }`\n",
       "     so we also need the `!important` here to be able to override the\n",
       "     default hidden behavior on the sphinx rendered scikit-learn.org.\n",
       "     See: https://github.com/scikit-learn/scikit-learn/issues/21755 */\n",
       "  display: inline-block !important;\n",
       "  position: relative;\n",
       "}\n",
       "\n",
       "#sk-container-id-1 div.sk-text-repr-fallback {\n",
       "  display: none;\n",
       "}\n",
       "\n",
       "div.sk-parallel-item,\n",
       "div.sk-serial,\n",
       "div.sk-item {\n",
       "  /* draw centered vertical line to link estimators */\n",
       "  background-image: linear-gradient(var(--sklearn-color-text-on-default-background), var(--sklearn-color-text-on-default-background));\n",
       "  background-size: 2px 100%;\n",
       "  background-repeat: no-repeat;\n",
       "  background-position: center center;\n",
       "}\n",
       "\n",
       "/* Parallel-specific style estimator block */\n",
       "\n",
       "#sk-container-id-1 div.sk-parallel-item::after {\n",
       "  content: \"\";\n",
       "  width: 100%;\n",
       "  border-bottom: 2px solid var(--sklearn-color-text-on-default-background);\n",
       "  flex-grow: 1;\n",
       "}\n",
       "\n",
       "#sk-container-id-1 div.sk-parallel {\n",
       "  display: flex;\n",
       "  align-items: stretch;\n",
       "  justify-content: center;\n",
       "  background-color: var(--sklearn-color-background);\n",
       "  position: relative;\n",
       "}\n",
       "\n",
       "#sk-container-id-1 div.sk-parallel-item {\n",
       "  display: flex;\n",
       "  flex-direction: column;\n",
       "}\n",
       "\n",
       "#sk-container-id-1 div.sk-parallel-item:first-child::after {\n",
       "  align-self: flex-end;\n",
       "  width: 50%;\n",
       "}\n",
       "\n",
       "#sk-container-id-1 div.sk-parallel-item:last-child::after {\n",
       "  align-self: flex-start;\n",
       "  width: 50%;\n",
       "}\n",
       "\n",
       "#sk-container-id-1 div.sk-parallel-item:only-child::after {\n",
       "  width: 0;\n",
       "}\n",
       "\n",
       "/* Serial-specific style estimator block */\n",
       "\n",
       "#sk-container-id-1 div.sk-serial {\n",
       "  display: flex;\n",
       "  flex-direction: column;\n",
       "  align-items: center;\n",
       "  background-color: var(--sklearn-color-background);\n",
       "  padding-right: 1em;\n",
       "  padding-left: 1em;\n",
       "}\n",
       "\n",
       "\n",
       "/* Toggleable style: style used for estimator/Pipeline/ColumnTransformer box that is\n",
       "clickable and can be expanded/collapsed.\n",
       "- Pipeline and ColumnTransformer use this feature and define the default style\n",
       "- Estimators will overwrite some part of the style using the `sk-estimator` class\n",
       "*/\n",
       "\n",
       "/* Pipeline and ColumnTransformer style (default) */\n",
       "\n",
       "#sk-container-id-1 div.sk-toggleable {\n",
       "  /* Default theme specific background. It is overwritten whether we have a\n",
       "  specific estimator or a Pipeline/ColumnTransformer */\n",
       "  background-color: var(--sklearn-color-background);\n",
       "}\n",
       "\n",
       "/* Toggleable label */\n",
       "#sk-container-id-1 label.sk-toggleable__label {\n",
       "  cursor: pointer;\n",
       "  display: block;\n",
       "  width: 100%;\n",
       "  margin-bottom: 0;\n",
       "  padding: 0.5em;\n",
       "  box-sizing: border-box;\n",
       "  text-align: center;\n",
       "}\n",
       "\n",
       "#sk-container-id-1 label.sk-toggleable__label-arrow:before {\n",
       "  /* Arrow on the left of the label */\n",
       "  content: \"▸\";\n",
       "  float: left;\n",
       "  margin-right: 0.25em;\n",
       "  color: var(--sklearn-color-icon);\n",
       "}\n",
       "\n",
       "#sk-container-id-1 label.sk-toggleable__label-arrow:hover:before {\n",
       "  color: var(--sklearn-color-text);\n",
       "}\n",
       "\n",
       "/* Toggleable content - dropdown */\n",
       "\n",
       "#sk-container-id-1 div.sk-toggleable__content {\n",
       "  max-height: 0;\n",
       "  max-width: 0;\n",
       "  overflow: hidden;\n",
       "  text-align: left;\n",
       "  /* unfitted */\n",
       "  background-color: var(--sklearn-color-unfitted-level-0);\n",
       "}\n",
       "\n",
       "#sk-container-id-1 div.sk-toggleable__content.fitted {\n",
       "  /* fitted */\n",
       "  background-color: var(--sklearn-color-fitted-level-0);\n",
       "}\n",
       "\n",
       "#sk-container-id-1 div.sk-toggleable__content pre {\n",
       "  margin: 0.2em;\n",
       "  border-radius: 0.25em;\n",
       "  color: var(--sklearn-color-text);\n",
       "  /* unfitted */\n",
       "  background-color: var(--sklearn-color-unfitted-level-0);\n",
       "}\n",
       "\n",
       "#sk-container-id-1 div.sk-toggleable__content.fitted pre {\n",
       "  /* unfitted */\n",
       "  background-color: var(--sklearn-color-fitted-level-0);\n",
       "}\n",
       "\n",
       "#sk-container-id-1 input.sk-toggleable__control:checked~div.sk-toggleable__content {\n",
       "  /* Expand drop-down */\n",
       "  max-height: 200px;\n",
       "  max-width: 100%;\n",
       "  overflow: auto;\n",
       "}\n",
       "\n",
       "#sk-container-id-1 input.sk-toggleable__control:checked~label.sk-toggleable__label-arrow:before {\n",
       "  content: \"▾\";\n",
       "}\n",
       "\n",
       "/* Pipeline/ColumnTransformer-specific style */\n",
       "\n",
       "#sk-container-id-1 div.sk-label input.sk-toggleable__control:checked~label.sk-toggleable__label {\n",
       "  color: var(--sklearn-color-text);\n",
       "  background-color: var(--sklearn-color-unfitted-level-2);\n",
       "}\n",
       "\n",
       "#sk-container-id-1 div.sk-label.fitted input.sk-toggleable__control:checked~label.sk-toggleable__label {\n",
       "  background-color: var(--sklearn-color-fitted-level-2);\n",
       "}\n",
       "\n",
       "/* Estimator-specific style */\n",
       "\n",
       "/* Colorize estimator box */\n",
       "#sk-container-id-1 div.sk-estimator input.sk-toggleable__control:checked~label.sk-toggleable__label {\n",
       "  /* unfitted */\n",
       "  background-color: var(--sklearn-color-unfitted-level-2);\n",
       "}\n",
       "\n",
       "#sk-container-id-1 div.sk-estimator.fitted input.sk-toggleable__control:checked~label.sk-toggleable__label {\n",
       "  /* fitted */\n",
       "  background-color: var(--sklearn-color-fitted-level-2);\n",
       "}\n",
       "\n",
       "#sk-container-id-1 div.sk-label label.sk-toggleable__label,\n",
       "#sk-container-id-1 div.sk-label label {\n",
       "  /* The background is the default theme color */\n",
       "  color: var(--sklearn-color-text-on-default-background);\n",
       "}\n",
       "\n",
       "/* On hover, darken the color of the background */\n",
       "#sk-container-id-1 div.sk-label:hover label.sk-toggleable__label {\n",
       "  color: var(--sklearn-color-text);\n",
       "  background-color: var(--sklearn-color-unfitted-level-2);\n",
       "}\n",
       "\n",
       "/* Label box, darken color on hover, fitted */\n",
       "#sk-container-id-1 div.sk-label.fitted:hover label.sk-toggleable__label.fitted {\n",
       "  color: var(--sklearn-color-text);\n",
       "  background-color: var(--sklearn-color-fitted-level-2);\n",
       "}\n",
       "\n",
       "/* Estimator label */\n",
       "\n",
       "#sk-container-id-1 div.sk-label label {\n",
       "  font-family: monospace;\n",
       "  font-weight: bold;\n",
       "  display: inline-block;\n",
       "  line-height: 1.2em;\n",
       "}\n",
       "\n",
       "#sk-container-id-1 div.sk-label-container {\n",
       "  text-align: center;\n",
       "}\n",
       "\n",
       "/* Estimator-specific */\n",
       "#sk-container-id-1 div.sk-estimator {\n",
       "  font-family: monospace;\n",
       "  border: 1px dotted var(--sklearn-color-border-box);\n",
       "  border-radius: 0.25em;\n",
       "  box-sizing: border-box;\n",
       "  margin-bottom: 0.5em;\n",
       "  /* unfitted */\n",
       "  background-color: var(--sklearn-color-unfitted-level-0);\n",
       "}\n",
       "\n",
       "#sk-container-id-1 div.sk-estimator.fitted {\n",
       "  /* fitted */\n",
       "  background-color: var(--sklearn-color-fitted-level-0);\n",
       "}\n",
       "\n",
       "/* on hover */\n",
       "#sk-container-id-1 div.sk-estimator:hover {\n",
       "  /* unfitted */\n",
       "  background-color: var(--sklearn-color-unfitted-level-2);\n",
       "}\n",
       "\n",
       "#sk-container-id-1 div.sk-estimator.fitted:hover {\n",
       "  /* fitted */\n",
       "  background-color: var(--sklearn-color-fitted-level-2);\n",
       "}\n",
       "\n",
       "/* Specification for estimator info (e.g. \"i\" and \"?\") */\n",
       "\n",
       "/* Common style for \"i\" and \"?\" */\n",
       "\n",
       ".sk-estimator-doc-link,\n",
       "a:link.sk-estimator-doc-link,\n",
       "a:visited.sk-estimator-doc-link {\n",
       "  float: right;\n",
       "  font-size: smaller;\n",
       "  line-height: 1em;\n",
       "  font-family: monospace;\n",
       "  background-color: var(--sklearn-color-background);\n",
       "  border-radius: 1em;\n",
       "  height: 1em;\n",
       "  width: 1em;\n",
       "  text-decoration: none !important;\n",
       "  margin-left: 1ex;\n",
       "  /* unfitted */\n",
       "  border: var(--sklearn-color-unfitted-level-1) 1pt solid;\n",
       "  color: var(--sklearn-color-unfitted-level-1);\n",
       "}\n",
       "\n",
       ".sk-estimator-doc-link.fitted,\n",
       "a:link.sk-estimator-doc-link.fitted,\n",
       "a:visited.sk-estimator-doc-link.fitted {\n",
       "  /* fitted */\n",
       "  border: var(--sklearn-color-fitted-level-1) 1pt solid;\n",
       "  color: var(--sklearn-color-fitted-level-1);\n",
       "}\n",
       "\n",
       "/* On hover */\n",
       "div.sk-estimator:hover .sk-estimator-doc-link:hover,\n",
       ".sk-estimator-doc-link:hover,\n",
       "div.sk-label-container:hover .sk-estimator-doc-link:hover,\n",
       ".sk-estimator-doc-link:hover {\n",
       "  /* unfitted */\n",
       "  background-color: var(--sklearn-color-unfitted-level-3);\n",
       "  color: var(--sklearn-color-background);\n",
       "  text-decoration: none;\n",
       "}\n",
       "\n",
       "div.sk-estimator.fitted:hover .sk-estimator-doc-link.fitted:hover,\n",
       ".sk-estimator-doc-link.fitted:hover,\n",
       "div.sk-label-container:hover .sk-estimator-doc-link.fitted:hover,\n",
       ".sk-estimator-doc-link.fitted:hover {\n",
       "  /* fitted */\n",
       "  background-color: var(--sklearn-color-fitted-level-3);\n",
       "  color: var(--sklearn-color-background);\n",
       "  text-decoration: none;\n",
       "}\n",
       "\n",
       "/* Span, style for the box shown on hovering the info icon */\n",
       ".sk-estimator-doc-link span {\n",
       "  display: none;\n",
       "  z-index: 9999;\n",
       "  position: relative;\n",
       "  font-weight: normal;\n",
       "  right: .2ex;\n",
       "  padding: .5ex;\n",
       "  margin: .5ex;\n",
       "  width: min-content;\n",
       "  min-width: 20ex;\n",
       "  max-width: 50ex;\n",
       "  color: var(--sklearn-color-text);\n",
       "  box-shadow: 2pt 2pt 4pt #999;\n",
       "  /* unfitted */\n",
       "  background: var(--sklearn-color-unfitted-level-0);\n",
       "  border: .5pt solid var(--sklearn-color-unfitted-level-3);\n",
       "}\n",
       "\n",
       ".sk-estimator-doc-link.fitted span {\n",
       "  /* fitted */\n",
       "  background: var(--sklearn-color-fitted-level-0);\n",
       "  border: var(--sklearn-color-fitted-level-3);\n",
       "}\n",
       "\n",
       ".sk-estimator-doc-link:hover span {\n",
       "  display: block;\n",
       "}\n",
       "\n",
       "/* \"?\"-specific style due to the `<a>` HTML tag */\n",
       "\n",
       "#sk-container-id-1 a.estimator_doc_link {\n",
       "  float: right;\n",
       "  font-size: 1rem;\n",
       "  line-height: 1em;\n",
       "  font-family: monospace;\n",
       "  background-color: var(--sklearn-color-background);\n",
       "  border-radius: 1rem;\n",
       "  height: 1rem;\n",
       "  width: 1rem;\n",
       "  text-decoration: none;\n",
       "  /* unfitted */\n",
       "  color: var(--sklearn-color-unfitted-level-1);\n",
       "  border: var(--sklearn-color-unfitted-level-1) 1pt solid;\n",
       "}\n",
       "\n",
       "#sk-container-id-1 a.estimator_doc_link.fitted {\n",
       "  /* fitted */\n",
       "  border: var(--sklearn-color-fitted-level-1) 1pt solid;\n",
       "  color: var(--sklearn-color-fitted-level-1);\n",
       "}\n",
       "\n",
       "/* On hover */\n",
       "#sk-container-id-1 a.estimator_doc_link:hover {\n",
       "  /* unfitted */\n",
       "  background-color: var(--sklearn-color-unfitted-level-3);\n",
       "  color: var(--sklearn-color-background);\n",
       "  text-decoration: none;\n",
       "}\n",
       "\n",
       "#sk-container-id-1 a.estimator_doc_link.fitted:hover {\n",
       "  /* fitted */\n",
       "  background-color: var(--sklearn-color-fitted-level-3);\n",
       "}\n",
       "</style><div id=\"sk-container-id-1\" class=\"sk-top-container\"><div class=\"sk-text-repr-fallback\"><pre>LinearRegression()</pre><b>In a Jupyter environment, please rerun this cell to show the HTML representation or trust the notebook. <br />On GitHub, the HTML representation is unable to render, please try loading this page with nbviewer.org.</b></div><div class=\"sk-container\" hidden><div class=\"sk-item\"><div class=\"sk-estimator fitted sk-toggleable\"><input class=\"sk-toggleable__control sk-hidden--visually\" id=\"sk-estimator-id-1\" type=\"checkbox\" checked><label for=\"sk-estimator-id-1\" class=\"sk-toggleable__label fitted sk-toggleable__label-arrow fitted\">&nbsp;&nbsp;LinearRegression<a class=\"sk-estimator-doc-link fitted\" rel=\"noreferrer\" target=\"_blank\" href=\"https://scikit-learn.org/1.5/modules/generated/sklearn.linear_model.LinearRegression.html\">?<span>Documentation for LinearRegression</span></a><span class=\"sk-estimator-doc-link fitted\">i<span>Fitted</span></span></label><div class=\"sk-toggleable__content fitted\"><pre>LinearRegression()</pre></div> </div></div></div></div>"
      ],
      "text/plain": [
       "LinearRegression()"
      ]
     },
     "execution_count": 90,
     "metadata": {},
     "output_type": "execute_result"
    }
   ],
   "source": [
    "model.fit(inputs,targets)"
   ]
  },
  {
   "cell_type": "markdown",
   "id": "855ca4fe-d690-44e4-96ed-7d708d366564",
   "metadata": {},
   "source": [
    ">here we are telling the scikit learn that these are the inputs(ages) and target(charges), and to calculate the loss so may be first guess some random w and b, get the prediction, compare the prediction with the targets, See how how the prediction are and then use a  Ordinary Least Squares algorithm or use some other optimization strategies to improve the values of w and b. And keep improving until we get the best results. All the things are coded inside the model.\n",
    "\n",
    ">LinearRegression class uses the optimization technique Ordinary Least Squares algorithm"
   ]
  },
  {
   "cell_type": "markdown",
   "id": "04e90d6e-e387-4bff-bf5f-54d46cf44609",
   "metadata": {},
   "source": [
    "    We can now make predictions using the model. Let's try predicting the charges for the ages 23, 37 and 61\n",
    "\n"
   ]
  },
  {
   "cell_type": "code",
   "execution_count": 93,
   "id": "e0d3aa6a-71fc-4205-973c-0cee27363d2d",
   "metadata": {},
   "outputs": [
    {
     "name": "stderr",
     "output_type": "stream",
     "text": [
      "C:\\Users\\amrit\\anaconda3\\Lib\\site-packages\\sklearn\\base.py:493: UserWarning:\n",
      "\n",
      "X does not have valid feature names, but LinearRegression was fitted with feature names\n",
      "\n"
     ]
    },
    {
     "data": {
      "text/plain": [
       "array([ 4055.30443855,  7796.78921819, 14210.76312614])"
      ]
     },
     "execution_count": 93,
     "metadata": {},
     "output_type": "execute_result"
    }
   ],
   "source": [
    "#lets predict for some ages\n",
    "model.predict(np.array([[23],[37],[61]]))"
   ]
  },
  {
   "cell_type": "markdown",
   "id": "02c956b3-fbad-4955-8f05-29d98829ca20",
   "metadata": {},
   "source": [
    "    Do these values seem reasonable? Compare them with the scatter plot above.\n",
    "\n",
    "    Let compute the predictions for the entire set of inputs"
   ]
  },
  {
   "cell_type": "code",
   "execution_count": 95,
   "id": "02ce107c-7913-4675-b92a-956b8fb61536",
   "metadata": {},
   "outputs": [
    {
     "data": {
      "text/plain": [
       "array([2719.0598744 , 5391.54900271, 6727.79356686, ..., 2719.0598744 ,\n",
       "       2719.0598744 , 3520.80661289])"
      ]
     },
     "execution_count": 95,
     "metadata": {},
     "output_type": "execute_result"
    }
   ],
   "source": [
    "predictions=model.predict(inputs)\n",
    "predictions"
   ]
  },
  {
   "cell_type": "code",
   "execution_count": 96,
   "id": "9a992929-54e3-4f91-988d-57de22254ad2",
   "metadata": {},
   "outputs": [
    {
     "data": {
      "text/plain": [
       "1        1725.55230\n",
       "2        4449.46200\n",
       "3       21984.47061\n",
       "4        3866.85520\n",
       "5        3756.62160\n",
       "           ...     \n",
       "1332    11411.68500\n",
       "1333    10600.54830\n",
       "1334     2205.98080\n",
       "1335     1629.83350\n",
       "1336     2007.94500\n",
       "Name: charges, Length: 1064, dtype: float64"
      ]
     },
     "execution_count": 96,
     "metadata": {},
     "output_type": "execute_result"
    }
   ],
   "source": [
    "targets"
   ]
  },
  {
   "cell_type": "markdown",
   "id": "06f15204-48a9-4f4b-b072-b9512cce8902",
   "metadata": {},
   "source": [
    "    Let's compute the RMSE loss to evaluate the model."
   ]
  },
  {
   "cell_type": "code",
   "execution_count": 98,
   "id": "628f8684-ed0c-40a9-84fe-11a0a73b2968",
   "metadata": {},
   "outputs": [
    {
     "data": {
      "text/plain": [
       "4662.505766636395"
      ]
     },
     "execution_count": 98,
     "metadata": {},
     "output_type": "execute_result"
    }
   ],
   "source": [
    "rmse(targets,predictions)"
   ]
  },
  {
   "cell_type": "markdown",
   "id": "de69b01c-63e9-4c85-ab4a-5b4e8e3f22a2",
   "metadata": {},
   "source": [
    "    Seems like our prediction is off by $4000 on average, which is not too bad considering the fact that there are several outliers.\n",
    "\n",
    "    The parameters of the model are stored in the coef_ and intercept_ properties."
   ]
  },
  {
   "cell_type": "code",
   "execution_count": 100,
   "id": "c155a394-15b1-4367-b30c-362528279990",
   "metadata": {},
   "outputs": [
    {
     "data": {
      "text/plain": [
       "array([267.24891283])"
      ]
     },
     "execution_count": 100,
     "metadata": {},
     "output_type": "execute_result"
    }
   ],
   "source": [
    "# w\n",
    "model.coef_"
   ]
  },
  {
   "cell_type": "code",
   "execution_count": 101,
   "id": "9f3f5563-d342-48e1-b438-e2bcd93e8c90",
   "metadata": {},
   "outputs": [
    {
     "data": {
      "text/plain": [
       "-2091.4205565650827"
      ]
     },
     "execution_count": 101,
     "metadata": {},
     "output_type": "execute_result"
    }
   ],
   "source": [
    "# b\n",
    "model.intercept_"
   ]
  },
  {
   "cell_type": "markdown",
   "id": "a0d2febd-8180-4f43-a293-bdc1b7c3aed8",
   "metadata": {},
   "source": [
    "    Are these parameters close to your best guesses?\n",
    "\n",
    "    Let's visualize the line created by the above parameters."
   ]
  },
  {
   "cell_type": "code",
   "execution_count": 103,
   "id": "4de768e3-c444-416f-9b16-65af70da4709",
   "metadata": {},
   "outputs": [
    {
     "data": {
      "image/png": "[encoded data removed]",
      "text/plain": [
       "<Figure size 1000x600 with 1 Axes>"
      ]
     },
     "metadata": {
      "needs_background": "light"
     },
     "output_type": "display_data"
    },
    {
     "name": "stdout",
     "output_type": "stream",
     "text": [
      "RMSE Loss:  4662.505766636395\n"
     ]
    }
   ],
   "source": [
    "try_parameter(model.coef_,model.intercept_)"
   ]
  },
  {
   "cell_type": "markdown",
   "id": "f8c331af-e7f7-4a30-aeff-e27c8066e750",
   "metadata": {},
   "source": [
    "    Indeed the line is quite close to the points. It is slightly above the cluster of points, because it's also trying to account for the outliers."
   ]
  },
  {
   "cell_type": "markdown",
   "id": "e39be0dd-966b-4b49-9b04-ffe3820a147c",
   "metadata": {},
   "source": [
    "### Using the SGDRegressor class from scikit-learn to train a model using the stochastic gradient descent technique. Make predictions and compute the loss"
   ]
  },
  {
   "cell_type": "code",
   "execution_count": 106,
   "id": "7b14313a-230e-4e9e-9957-478ba60fdf47",
   "metadata": {},
   "outputs": [],
   "source": [
    "from sklearn.linear_model import SGDRegressor\n",
    "from sklearn.preprocessing import StandardScaler"
   ]
  },
  {
   "cell_type": "code",
   "execution_count": 107,
   "id": "3103105f-ab1f-4a2c-83a4-b6e171c9463a",
   "metadata": {},
   "outputs": [
    {
     "data": {
      "text/plain": [
       "4662.578503411452"
      ]
     },
     "execution_count": 107,
     "metadata": {},
     "output_type": "execute_result"
    }
   ],
   "source": [
    "# 1. Input and target\n",
    "inputs = non_smoker_df[['age']]\n",
    "targets = non_smoker_df['charges']\n",
    "\n",
    "# 2. Standardize input (very important for SGD)\n",
    "scaler = StandardScaler()\n",
    "inputs_scaled = scaler.fit_transform(inputs)\n",
    "\n",
    "# 3. Train the model\n",
    "sgd_model = SGDRegressor(max_iter=1000, random_state=42)\n",
    "sgd_model.fit(inputs_scaled, targets)\n",
    "\n",
    "# 4. Predict\n",
    "predictions = sgd_model.predict(inputs_scaled)\n",
    "\n",
    "# 5. RMSE (your custom function)\n",
    "rmse(targets, predictions)"
   ]
  },
  {
   "cell_type": "markdown",
   "id": "59125d75-d4c4-4da8-a7af-8b1c086ee8e3",
   "metadata": {},
   "source": [
    "> Standardizing the input feature is crucial when using SGD (Stochastic Gradient Descent)\n",
    " because it helps the algorithm converge faster and more reliably.\n",
    " Features like 'age' may have values ranging from 18 to 64, and large differences in scale\n",
    " can lead to unstable or inefficient updates during training.\n",
    " By using StandardScaler(), we transform the 'age' column so that it has a mean of 0\n",
    " and a standard deviation of 1. This ensures the model treats the feature on a consistent scale,\n",
    " leading to better performance and a lower RMSE."
   ]
  },
  {
   "cell_type": "code",
   "execution_count": 109,
   "id": "4eb9fc96-ca5f-4687-8d27-416f787ec1df",
   "metadata": {},
   "outputs": [
    {
     "data": {
      "text/html": [
       "<div>\n",
       "<style scoped>\n",
       "    .dataframe tbody tr th:only-of-type {\n",
       "        vertical-align: middle;\n",
       "    }\n",
       "\n",
       "    .dataframe tbody tr th {\n",
       "        vertical-align: top;\n",
       "    }\n",
       "\n",
       "    .dataframe thead th {\n",
       "        text-align: right;\n",
       "    }\n",
       "</style>\n",
       "<table border=\"1\" class=\"dataframe\">\n",
       "  <thead>\n",
       "    <tr style=\"text-align: right;\">\n",
       "      <th></th>\n",
       "      <th>age</th>\n",
       "      <th>sex</th>\n",
       "      <th>bmi</th>\n",
       "      <th>children</th>\n",
       "      <th>smoker</th>\n",
       "      <th>region</th>\n",
       "      <th>charges</th>\n",
       "    </tr>\n",
       "  </thead>\n",
       "  <tbody>\n",
       "    <tr>\n",
       "      <th>0</th>\n",
       "      <td>19</td>\n",
       "      <td>female</td>\n",
       "      <td>27.900</td>\n",
       "      <td>0</td>\n",
       "      <td>yes</td>\n",
       "      <td>southwest</td>\n",
       "      <td>16884.92400</td>\n",
       "    </tr>\n",
       "    <tr>\n",
       "      <th>11</th>\n",
       "      <td>62</td>\n",
       "      <td>female</td>\n",
       "      <td>26.290</td>\n",
       "      <td>0</td>\n",
       "      <td>yes</td>\n",
       "      <td>southeast</td>\n",
       "      <td>27808.72510</td>\n",
       "    </tr>\n",
       "    <tr>\n",
       "      <th>14</th>\n",
       "      <td>27</td>\n",
       "      <td>male</td>\n",
       "      <td>42.130</td>\n",
       "      <td>0</td>\n",
       "      <td>yes</td>\n",
       "      <td>southeast</td>\n",
       "      <td>39611.75770</td>\n",
       "    </tr>\n",
       "    <tr>\n",
       "      <th>19</th>\n",
       "      <td>30</td>\n",
       "      <td>male</td>\n",
       "      <td>35.300</td>\n",
       "      <td>0</td>\n",
       "      <td>yes</td>\n",
       "      <td>southwest</td>\n",
       "      <td>36837.46700</td>\n",
       "    </tr>\n",
       "    <tr>\n",
       "      <th>23</th>\n",
       "      <td>34</td>\n",
       "      <td>female</td>\n",
       "      <td>31.920</td>\n",
       "      <td>1</td>\n",
       "      <td>yes</td>\n",
       "      <td>northeast</td>\n",
       "      <td>37701.87680</td>\n",
       "    </tr>\n",
       "    <tr>\n",
       "      <th>...</th>\n",
       "      <td>...</td>\n",
       "      <td>...</td>\n",
       "      <td>...</td>\n",
       "      <td>...</td>\n",
       "      <td>...</td>\n",
       "      <td>...</td>\n",
       "      <td>...</td>\n",
       "    </tr>\n",
       "    <tr>\n",
       "      <th>1313</th>\n",
       "      <td>19</td>\n",
       "      <td>female</td>\n",
       "      <td>34.700</td>\n",
       "      <td>2</td>\n",
       "      <td>yes</td>\n",
       "      <td>southwest</td>\n",
       "      <td>36397.57600</td>\n",
       "    </tr>\n",
       "    <tr>\n",
       "      <th>1314</th>\n",
       "      <td>30</td>\n",
       "      <td>female</td>\n",
       "      <td>23.655</td>\n",
       "      <td>3</td>\n",
       "      <td>yes</td>\n",
       "      <td>northwest</td>\n",
       "      <td>18765.87545</td>\n",
       "    </tr>\n",
       "    <tr>\n",
       "      <th>1321</th>\n",
       "      <td>62</td>\n",
       "      <td>male</td>\n",
       "      <td>26.695</td>\n",
       "      <td>0</td>\n",
       "      <td>yes</td>\n",
       "      <td>northeast</td>\n",
       "      <td>28101.33305</td>\n",
       "    </tr>\n",
       "    <tr>\n",
       "      <th>1323</th>\n",
       "      <td>42</td>\n",
       "      <td>female</td>\n",
       "      <td>40.370</td>\n",
       "      <td>2</td>\n",
       "      <td>yes</td>\n",
       "      <td>southeast</td>\n",
       "      <td>43896.37630</td>\n",
       "    </tr>\n",
       "    <tr>\n",
       "      <th>1337</th>\n",
       "      <td>61</td>\n",
       "      <td>female</td>\n",
       "      <td>29.070</td>\n",
       "      <td>0</td>\n",
       "      <td>yes</td>\n",
       "      <td>northwest</td>\n",
       "      <td>29141.36030</td>\n",
       "    </tr>\n",
       "  </tbody>\n",
       "</table>\n",
       "<p>274 rows × 7 columns</p>\n",
       "</div>"
      ],
      "text/plain": [
       "      age     sex     bmi  children smoker     region      charges\n",
       "0      19  female  27.900         0    yes  southwest  16884.92400\n",
       "11     62  female  26.290         0    yes  southeast  27808.72510\n",
       "14     27    male  42.130         0    yes  southeast  39611.75770\n",
       "19     30    male  35.300         0    yes  southwest  36837.46700\n",
       "23     34  female  31.920         1    yes  northeast  37701.87680\n",
       "...   ...     ...     ...       ...    ...        ...          ...\n",
       "1313   19  female  34.700         2    yes  southwest  36397.57600\n",
       "1314   30  female  23.655         3    yes  northwest  18765.87545\n",
       "1321   62    male  26.695         0    yes  northeast  28101.33305\n",
       "1323   42  female  40.370         2    yes  southeast  43896.37630\n",
       "1337   61  female  29.070         0    yes  northwest  29141.36030\n",
       "\n",
       "[274 rows x 7 columns]"
      ]
     },
     "execution_count": 109,
     "metadata": {},
     "output_type": "execute_result"
    }
   ],
   "source": [
    "smoker_df=df[df['smoker']=='yes']\n",
    "smoker_df"
   ]
  },
  {
   "cell_type": "code",
   "execution_count": 110,
   "id": "6f1df2a9-08d5-4e5a-bbe7-4534bc1f5e16",
   "metadata": {},
   "outputs": [
    {
     "data": {
      "text/html": [
       "<iframe\n",
       "    scrolling=\"no\"\n",
       "    width=\"100%\"\n",
       "    height=\"545px\"\n",
       "    src=\"iframe_figures/figure_110.html\"\n",
       "    frameborder=\"0\"\n",
       "    allowfullscreen\n",
       "></iframe>\n"
      ]
     },
     "metadata": {},
     "output_type": "display_data"
    }
   ],
   "source": [
    "fig = px.scatter(smoker_df, x='age', y='charges', \n",
    "                 title='Age vs Medical Charges for non-smoker',\n",
    "                 trendline='ols')  # Adds a regression line\n",
    "                \n",
    "\n",
    "fig.show()"
   ]
  },
  {
   "cell_type": "code",
   "execution_count": 111,
   "id": "0551a52a-8ea8-4a87-ab1d-d4fcd3066fb2",
   "metadata": {},
   "outputs": [
    {
     "data": {
      "text/plain": [
       "10711.00334810241"
      ]
     },
     "execution_count": 111,
     "metadata": {},
     "output_type": "execute_result"
    }
   ],
   "source": [
    "model=LinearRegression()\n",
    "\n",
    "inputs=smoker_df[['age']]\n",
    "targets=smoker_df.charges\n",
    "\n",
    "model.fit(inputs,targets)\n",
    "predictions=model.predict(inputs)\n",
    "rmse(targets,predictions)\n"
   ]
  },
  {
   "cell_type": "code",
   "execution_count": 112,
   "id": "2e2f3c2a-5882-41c2-95b0-20c3424bb55f",
   "metadata": {},
   "outputs": [
    {
     "data": {
      "image/png": "[encoded data removed]",
      "text/plain": [
       "<Figure size 1000x600 with 1 Axes>"
      ]
     },
     "metadata": {
      "needs_background": "light"
     },
     "output_type": "display_data"
    },
    {
     "name": "stdout",
     "output_type": "stream",
     "text": [
      "RMSE Loss:  24338.502872599216\n"
     ]
    }
   ],
   "source": [
    "try_parameter(model.coef_,model.intercept_)"
   ]
  },
  {
   "cell_type": "code",
   "execution_count": 113,
   "id": "84b160af-46a1-4628-98e4-c368fcdb0342",
   "metadata": {},
   "outputs": [],
   "source": [
    "def gradient_descent(inputs,targets):\n",
    "\n",
    "\n",
    "# 2. Standardize input (very important for SGD)\n",
    "    scaler = StandardScaler()\n",
    "    inputs_scaled = scaler.fit_transform(inputs)\n",
    "\n",
    "# 3. Train the model\n",
    "    sgd_model = SGDRegressor(max_iter=1000, random_state=42)\n",
    "    sgd_model.fit(inputs_scaled, targets)\n",
    "\n",
    "# 4. Predict\n",
    "    predictions = sgd_model.predict(inputs_scaled)\n",
    "\n",
    "# 5. RMSE (your custom function)\n",
    "    print('RMSE: ',rmse(targets, predictions) )"
   ]
  },
  {
   "cell_type": "code",
   "execution_count": 114,
   "id": "dcce2b34-66cf-478b-bc29-81d6c410214a",
   "metadata": {},
   "outputs": [
    {
     "name": "stdout",
     "output_type": "stream",
     "text": [
      "RMSE:  10711.029450839265\n"
     ]
    }
   ],
   "source": [
    "gradient_descent(inputs,targets)"
   ]
  },
  {
   "cell_type": "markdown",
   "id": "3de33c8c-16d1-4c31-b3bb-bbffe15858ea",
   "metadata": {},
   "source": [
    ">RMSE for smoker group is higher (~10711) even after using OLS and SGD.\n",
    "This suggests that age alone is not sufficient to accurately predict charges for smokers,\n",
    "possibly due to higher variance in charges caused by other factors like BMI, health risks, or lifestyle.\n",
    "To improve predictions, we may need to include more features or consider non-linear models."
   ]
  },
  {
   "cell_type": "markdown",
   "id": "e5455116-64ee-4d81-a931-cd5e01790f5b",
   "metadata": {},
   "source": [
    "## Model Performance Checklist ✅\n",
    "    Use this right after building a basic model like OLS or SGD"
   ]
  },
  {
   "cell_type": "code",
   "execution_count": 117,
   "id": "44a03ba7-a8b4-46ad-aec2-1e4f28c59e61",
   "metadata": {},
   "outputs": [
    {
     "data": {
      "image/png": "[encoded data removed]",
      "text/plain": [
       "<Figure size 1000x600 with 1 Axes>"
      ]
     },
     "metadata": {
      "needs_background": "light"
     },
     "output_type": "display_data"
    },
    {
     "name": "stdout",
     "output_type": "stream",
     "text": [
      "Mean charges: 32050.23183153284\n",
      "RMSE: 10711.00334810241\n",
      "R² score: 0.13558924096084068\n",
      "Weight: [305.23760211]\n",
      "Bias: 20294.128126915966\n"
     ]
    }
   ],
   "source": [
    "# ✅ 1. Scatter plot to check linearity\n",
    "plt.scatter(inputs, targets)\n",
    "plt.xlabel('Input feature')\n",
    "plt.ylabel('Target')\n",
    "plt.title('Visual check: Linear pattern or not')\n",
    "plt.show()\n",
    "# ➤ If the pattern is scattered or curved → linear models may not perform well\n",
    "\n",
    "# ✅ 2. Compare RMSE with average charges\n",
    "print(\"Mean charges:\", targets.mean())\n",
    "print(\"RMSE:\", rmse(targets, predictions))\n",
    "# ➤ If RMSE is large compared to mean (e.g. >30-40%) → model might be underfitting\n",
    "\n",
    "# ✅ 3. Check R² score\n",
    "from sklearn.metrics import r2_score\n",
    "r2 = r2_score(targets, predictions)\n",
    "print(\"R² score:\", r2)\n",
    "# ➤ R² > 0.7 → good, 0.5–0.7 → okay, < 0.3 → try more features or smarter model\n",
    "\n",
    "# ✅ 4. Check model coefficients (optional but insightful)\n",
    "print(\"Weight:\", model.coef_)\n",
    "print(\"Bias:\", model.intercept_)\n",
    "# ➤ Helps understand model behavior (Is it too flat? Too steep?)"
   ]
  },
  {
   "cell_type": "code",
   "execution_count": 118,
   "id": "ff529f30-e50a-4f99-9e18-75911dc7ad42",
   "metadata": {},
   "outputs": [],
   "source": [
    "#Let's create a function to evaluate model performace\n",
    "def model_performance_lr(inputs,target,prediction):\n",
    "    # ✅ 1. Scatter plot to check linearity\n",
    "    plt.scatter(inputs, targets)\n",
    "    plt.xlabel('Input feature')\n",
    "    plt.ylabel('Target')\n",
    "    plt.title('Visual check: Linear pattern or not')\n",
    "    plt.show()\n",
    "    # ➤ If the pattern is scattered or curved → linear models may not perform well\n",
    "\n",
    "    # ✅ 2. Compare RMSE with average charges\n",
    "    print(\"Mean charges:\", targets.mean())\n",
    "    print(\"RMSE:\", rmse(targets, predictions))\n",
    "    # ➤ If RMSE is large compared to mean (e.g. >30-40%) → model might be underfitting\n",
    "\n",
    "    # ✅ 3. Check R² score\n",
    "    from sklearn.metrics import r2_score\n",
    "    r2 = r2_score(targets, predictions)\n",
    "    print(\"R² score:\", r2)\n",
    "    # ➤ R² > 0.7 → good, 0.5–0.7 → okay, < 0.3 → try more features or smarter model\n"
   ]
  },
  {
   "cell_type": "code",
   "execution_count": 119,
   "id": "a9c81c7c-4299-4872-9936-6f595f3bea7a",
   "metadata": {},
   "outputs": [
    {
     "data": {
      "image/png": "[encoded data removed]",
      "text/plain": [
       "<Figure size 1000x600 with 1 Axes>"
      ]
     },
     "metadata": {
      "needs_background": "light"
     },
     "output_type": "display_data"
    },
    {
     "name": "stdout",
     "output_type": "stream",
     "text": [
      "Mean charges: 32050.23183153284\n",
      "RMSE: 10711.00334810241\n",
      "R² score: 0.13558924096084068\n"
     ]
    }
   ],
   "source": [
    "model_performance_lr(inputs,targets,predictions)"
   ]
  },
  {
   "cell_type": "markdown",
   "id": "d7ab958e-5103-4ada-b755-77c1d1f5b5ab",
   "metadata": {},
   "source": [
    "# Machine Learning\n",
    "    \n",
    "    Machine learning is simply the process of computing the best parameters to model the relationship between some feature and targets.\n",
    "\n",
    "    Every machine learning problem has three components:\n",
    "\n",
    ">1. Model\n",
    "\n",
    ">2. Cost Function\n",
    "\n",
    ">3. Optimizer\n",
    "\n",
    "    We'll look at several examples of each of the above in future tutorials. Here's how the relationship between these three components can be visualized:\n",
    "\n",
    " <img src=\"ML_component.png\">\n",
    " \n",
    "    As we've seen above, it takes just a few lines of code to train a machine learning model using scikit-learn."
   ]
  },
  {
   "cell_type": "code",
   "execution_count": 121,
   "id": "b2ab64f5-16f1-4763-a144-e1856037c8ab",
   "metadata": {},
   "outputs": [
    {
     "name": "stdout",
     "output_type": "stream",
     "text": [
      "Loss: 10711.00334810241\n"
     ]
    }
   ],
   "source": [
    "# Create inputs and targets\n",
    "inputs, targets = smoker_df[['age']], smoker_df['charges']\n",
    "\n",
    "# Create and train the model\n",
    "model = LinearRegression().fit(inputs, targets)\n",
    "\n",
    "# Generate predictions\n",
    "predictions = model.predict(inputs)\n",
    "\n",
    "# Compute loss to evalute the model\n",
    "loss = rmse(targets, predictions)\n",
    "print('Loss:', loss)"
   ]
  },
  {
   "cell_type": "markdown",
   "id": "c0e33222-3c7a-4af2-8711-38e0ccbbbb4c",
   "metadata": {},
   "source": [
    "# Linear Regression using Multiple Features\n",
    "\n",
    "    So far, we've used on the \"age\" feature to estimate \"charges\". Adding another feature like \"bmi\" is fairly straightforward. We simply assume the following relationship:\n",
    "\n",
    ">charges=w1​×age+w2​×bmi+b\n",
    "\n",
    "    We need to change just one line of code to include the BMI."
   ]
  },
  {
   "cell_type": "code",
   "execution_count": 123,
   "id": "f64159c1-83a3-440a-9564-bbee7661f35c",
   "metadata": {},
   "outputs": [
    {
     "name": "stdout",
     "output_type": "stream",
     "text": [
      "Loss: 5722.782238884455\n"
     ]
    }
   ],
   "source": [
    "#for smoker\n",
    "# Create inputs and targets\n",
    "inputs,targets=smoker_df[['age','bmi']],smoker_df['charges']\n",
    "\n",
    "# Create and train the model\n",
    "model=LinearRegression().fit(inputs, targets)\n",
    "\n",
    "# Generate predictions\n",
    "predictions=model.predict(inputs)\n",
    "\n",
    "# Compute loss to evalute the model\n",
    "loss = rmse(targets, predictions)\n",
    "print('Loss:', loss)"
   ]
  },
  {
   "cell_type": "markdown",
   "id": "89a57ca5-30c7-437c-ae73-ebfd7929b56c",
   "metadata": {},
   "source": [
    "    Previously with single feature (age) the loss was 10711 which ws too high, but using two feature age and bmi, It seems like we got a better result i.e 5722. That means adding the BMI does seem to reduce the loss by much\n",
    "\n",
    "    let's check for non-smoker  with two feature the model will be improving or not"
   ]
  },
  {
   "cell_type": "code",
   "execution_count": 125,
   "id": "eff298f7-96ef-4e99-8991-d05743652a79",
   "metadata": {},
   "outputs": [
    {
     "name": "stdout",
     "output_type": "stream",
     "text": [
      "Loss: 4662.3128354612945\n"
     ]
    }
   ],
   "source": [
    "#For non-smoker\n",
    "\n",
    "# Create inputs and targets\n",
    "inputs,targets=non_smoker_df[['age','bmi']],non_smoker_df['charges']\n",
    "\n",
    "# Create and train the model\n",
    "model=LinearRegression().fit(inputs, targets)\n",
    "\n",
    "# Generate predictions\n",
    "predictions=model.predict(inputs)\n",
    "\n",
    "# Compute loss to evalute the model\n",
    "loss = rmse(targets, predictions)\n",
    "print('Loss:', loss)"
   ]
  },
  {
   "cell_type": "markdown",
   "id": "40f48e22-5d82-48a2-a29c-9c782294dd9d",
   "metadata": {},
   "source": [
    "    As you can see, adding the BMI doesn't seem to reduce the loss by much, as the BMI has a very weak correlation with charges, especially for non smokers."
   ]
  },
  {
   "cell_type": "code",
   "execution_count": 127,
   "id": "674ff61f-3664-4874-aedc-c3f0babde59b",
   "metadata": {},
   "outputs": [
    {
     "data": {
      "text/plain": [
       "0.08403654312833271"
      ]
     },
     "execution_count": 127,
     "metadata": {},
     "output_type": "execute_result"
    }
   ],
   "source": [
    "non_smoker_df.charges.corr(non_smoker_df.bmi)"
   ]
  },
  {
   "cell_type": "code",
   "execution_count": 128,
   "id": "a69107e6-8c43-44cf-a473-bf64c5dcd030",
   "metadata": {},
   "outputs": [
    {
     "data": {
      "text/html": [
       "<iframe\n",
       "    scrolling=\"no\"\n",
       "    width=\"100%\"\n",
       "    height=\"545px\"\n",
       "    src=\"iframe_figures/figure_128.html\"\n",
       "    frameborder=\"0\"\n",
       "    allowfullscreen\n",
       "></iframe>\n"
      ]
     },
     "metadata": {},
     "output_type": "display_data"
    }
   ],
   "source": [
    "fig = px.scatter(non_smoker_df, x='bmi', y='charges', title='BMI vs. Charges')\n",
    "fig.update_traces(marker_size=5)\n",
    "fig.show()"
   ]
  },
  {
   "cell_type": "markdown",
   "id": "378c8a46-c521-4461-9080-1addc968eafe",
   "metadata": {},
   "source": [
    "    We can also visualize the relationship between all 3 variables \"age\", \"bmi\" and \"charges\" using a 3D scatter plot.\n"
   ]
  },
  {
   "cell_type": "code",
   "execution_count": 130,
   "id": "150a1352-e3e2-4701-abc9-3570c17dcc9f",
   "metadata": {},
   "outputs": [
    {
     "data": {
      "text/html": [
       "<iframe\n",
       "    scrolling=\"no\"\n",
       "    width=\"100%\"\n",
       "    height=\"545px\"\n",
       "    src=\"iframe_figures/figure_130.html\"\n",
       "    frameborder=\"0\"\n",
       "    allowfullscreen\n",
       "></iframe>\n"
      ]
     },
     "metadata": {},
     "output_type": "display_data"
    }
   ],
   "source": [
    "fig = px.scatter_3d(non_smoker_df, x='age', y='bmi', z='charges')\n",
    "fig.update_traces(marker_size=3, marker_opacity=0.5)\n",
    "fig.show()"
   ]
  },
  {
   "cell_type": "markdown",
   "id": "e58b630d-0174-4de3-845a-2e8ba09e068f",
   "metadata": {},
   "source": [
    "    You can see that it's harder to interpret a 3D scatter plot compared to a 2D scatter plot. As we add more features, it becomes impossible to visualize all feature at once, which is why we use measures like correlation and loss.\n",
    "\n",
    "    Let's also check the parameters of the model."
   ]
  },
  {
   "cell_type": "code",
   "execution_count": 132,
   "id": "ce658d64-a2ba-4c64-a03f-93d6b8c3e881",
   "metadata": {},
   "outputs": [
    {
     "data": {
      "text/plain": [
       "(array([266.87657817,   7.07547666]), -2293.6320906488654)"
      ]
     },
     "execution_count": 132,
     "metadata": {},
     "output_type": "execute_result"
    }
   ],
   "source": [
    "model.coef_,model.intercept_"
   ]
  },
  {
   "cell_type": "markdown",
   "id": "9b05decb-a564-4240-9fbf-3b2b82bf5c03",
   "metadata": {},
   "source": [
    "    Clearly, BMI has a much lower weightage, and you can see why. It has a tiny contribution, and even that is probably accidental. This is an important thing to keep in mind: you can't find a relationship that doesn't exist, no matter what machine learning technique or optimization algorithm you apply."
   ]
  },
  {
   "cell_type": "markdown",
   "id": "2f73b74a-91ac-4556-a694-1e355d9a05f1",
   "metadata": {},
   "source": [
    "    Let's go one step further, and add the final numeric column: \"children\", which seems to have some correlation with \"charges\".\n",
    "\n",
    ">charges=w1​×age+w2​×bmi+w3​×charges+b"
   ]
  },
  {
   "cell_type": "code",
   "execution_count": 135,
   "id": "c73237f4-e300-43cd-82e4-a338e27519de",
   "metadata": {},
   "outputs": [
    {
     "data": {
      "text/plain": [
       "0.13892870453542197"
      ]
     },
     "execution_count": 135,
     "metadata": {},
     "output_type": "execute_result"
    }
   ],
   "source": [
    "#For non_smoker\n",
    "non_smoker_df.charges.corr(non_smoker_df.children)"
   ]
  },
  {
   "cell_type": "code",
   "execution_count": 136,
   "id": "1ad857e7-5fa0-4ac9-86a5-5c2aa4d77f44",
   "metadata": {},
   "outputs": [
    {
     "data": {
      "text/html": [
       "<iframe\n",
       "    scrolling=\"no\"\n",
       "    width=\"100%\"\n",
       "    height=\"545px\"\n",
       "    src=\"iframe_figures/figure_136.html\"\n",
       "    frameborder=\"0\"\n",
       "    allowfullscreen\n",
       "></iframe>\n"
      ]
     },
     "metadata": {},
     "output_type": "display_data"
    }
   ],
   "source": [
    "fig = px.strip(non_smoker_df, x='children', y='charges', title= \"Children vs. Charges\")\n",
    "fig.update_traces(marker_size=4, marker_opacity=0.7)\n",
    "fig.show()"
   ]
  },
  {
   "cell_type": "code",
   "execution_count": 137,
   "id": "3ed284d5-e0ed-48ff-9d4e-8446798b65bb",
   "metadata": {},
   "outputs": [
    {
     "name": "stdout",
     "output_type": "stream",
     "text": [
      "Loss: 4608.470405038247\n"
     ]
    }
   ],
   "source": [
    "#for non_smoker\n",
    "\n",
    "inputs, targets = non_smoker_df[['age', 'bmi', 'children']], non_smoker_df['charges']\n",
    "\n",
    "# Create and train the model\n",
    "model = LinearRegression().fit(inputs, targets)\n",
    "\n",
    "# Generate predictions\n",
    "predictions = model.predict(inputs)\n",
    "\n",
    "# Compute loss to evalute the model\n",
    "loss = rmse(targets, predictions)\n",
    "print('Loss:', loss)"
   ]
  },
  {
   "cell_type": "markdown",
   "id": "43600184-28fe-4e81-b13f-9985583ce944",
   "metadata": {},
   "source": [
    "    Once again, we don't see a big reduction in the loss, even though it's greater than in the case of BMI."
   ]
  },
  {
   "cell_type": "code",
   "execution_count": 139,
   "id": "d9690b8c-9c6c-43e0-b217-fb21f6e5bc82",
   "metadata": {},
   "outputs": [
    {
     "data": {
      "text/plain": [
       "0.035945005812685865"
      ]
     },
     "execution_count": 139,
     "metadata": {},
     "output_type": "execute_result"
    }
   ],
   "source": [
    "#for smoker\n",
    "smoker_df.charges.corr(smoker_df.children)"
   ]
  },
  {
   "cell_type": "code",
   "execution_count": 140,
   "id": "bbd02c42-9768-4269-be63-aa4af2b13d39",
   "metadata": {},
   "outputs": [
    {
     "name": "stdout",
     "output_type": "stream",
     "text": [
      "Loss: 5718.2024805241535\n"
     ]
    }
   ],
   "source": [
    "# Create inputs and targets\n",
    "inputs, targets = smoker_df[['age', 'bmi', 'children']], smoker_df['charges']\n",
    "\n",
    "# Create and train the model\n",
    "model = LinearRegression().fit(inputs, targets)\n",
    "\n",
    "# Generate predictions\n",
    "predictions = model.predict(inputs)\n",
    "\n",
    "# Compute loss to evalute the model\n",
    "loss = rmse(targets, predictions)\n",
    "print('Loss:', loss)"
   ]
  },
  {
   "cell_type": "markdown",
   "id": "b3c3fb42-634d-482f-847c-26ac6238f275",
   "metadata": {},
   "source": [
    "    we don't see a big reduction in the loss, even though it's greater than in the case of BMI"
   ]
  },
  {
   "cell_type": "code",
   "execution_count": 142,
   "id": "7b474a7c-78de-49cc-8ad6-f3934a13ab63",
   "metadata": {},
   "outputs": [
    {
     "name": "stdout",
     "output_type": "stream",
     "text": [
      "Loss: 11355.317901125973\n"
     ]
    }
   ],
   "source": [
    "# Create inputs and targets\n",
    "inputs, targets = df[['age', 'bmi', 'children']], df['charges']\n",
    "\n",
    "# Create and train the model\n",
    "model = LinearRegression().fit(inputs, targets)\n",
    "\n",
    "# Generate predictions\n",
    "predictions = model.predict(inputs)\n",
    "\n",
    "# Compute loss to evalute the model\n",
    "loss = rmse(targets, predictions)\n",
    "print('Loss:', loss)"
   ]
  },
  {
   "cell_type": "code",
   "execution_count": 143,
   "id": "27bb60fd-ad6a-4722-a78c-e7dbf940d3b2",
   "metadata": {},
   "outputs": [
    {
     "name": "stdout",
     "output_type": "stream",
     "text": [
      "RMSE:  11355.939048622642\n"
     ]
    }
   ],
   "source": [
    "gradient_descent(inputs,targets) #Through gradient descent also we are getting 11355 RMSE"
   ]
  },
  {
   "cell_type": "code",
   "execution_count": 144,
   "id": "9c2779c6-f422-43de-b328-0507849c3b2c",
   "metadata": {},
   "outputs": [
    {
     "data": {
      "text/html": [
       "<iframe\n",
       "    scrolling=\"no\"\n",
       "    width=\"100%\"\n",
       "    height=\"545px\"\n",
       "    src=\"iframe_figures/figure_144.html\"\n",
       "    frameborder=\"0\"\n",
       "    allowfullscreen\n",
       "></iframe>\n"
      ]
     },
     "metadata": {},
     "output_type": "display_data"
    }
   ],
   "source": [
    "fig = px.scatter(df, x='age', y='charges', \n",
    "                 title='Age vs Medical Charges',\n",
    "                 color='smoker',\n",
    "                 trendline='ols')  # Adds a regression line\n",
    "                \n",
    "\n",
    "fig.show()"
   ]
  },
  {
   "cell_type": "markdown",
   "id": "3c5093c6-de3c-4d2c-864c-75f5fda2eed3",
   "metadata": {},
   "source": [
    "    we can see our model perform too poor to predict as we are only including the numerical value like age, bmi and charges but not including the smoker column which may have some impact on the charges as see before there was a correlation between smoker coulmn and charges. If we can use those column as well our model would have perform well"
   ]
  },
  {
   "cell_type": "markdown",
   "id": "ce3bfadf-485a-4ac6-ae8a-e26a01279647",
   "metadata": {},
   "source": [
    "# Using Categorical Features for Machine Learning\n",
    "    So far we've been using only numeric columns, since we can only perform computations with numbers. If we could use categorical columns like \"smoker\", we can train a single model for the entire dataset.\n",
    "\n",
    "    To use the categorical columns, we simply need to convert them to numbers. There are three common techniques for doing this:\n",
    "\n",
    ">1. If a categorical column has just two categories (it's called a binary category), then we can replace their values with 0 and 1.\n",
    "\n",
    ">2. If a categorical column has more than 2 categories, we can perform one-hot encoding i.e.\n",
    "create a new column for each category with 1s and 0s.\n",
    "\n",
    ">3. If the categories have a natural order (e.g. cold, neutral, warm, hot), then they can be converted to numbers (e.g. 1, 2, 3, 4) preserving the order. These are called ordinals"
   ]
  },
  {
   "cell_type": "markdown",
   "id": "1a8ddab3-d5e2-4066-af75-b8a3858c5fb5",
   "metadata": {},
   "source": [
    "## Binary Categories\n",
    "    The \"smoker\" category has just two values \"yes\" and \"no\". Let's create a new column \"smoker_code\" containing 0 for \"no\" and 1 for \"yes\"."
   ]
  },
  {
   "cell_type": "code",
   "execution_count": 148,
   "id": "fda2c0a7-1ac1-4a3b-a0c8-4ae0966c4505",
   "metadata": {},
   "outputs": [
    {
     "data": {
      "image/png": "[encoded data removed]",
      "text/plain": [
       "<Figure size 1000x600 with 1 Axes>"
      ]
     },
     "metadata": {
      "needs_background": "light"
     },
     "output_type": "display_data"
    }
   ],
   "source": [
    "sns.barplot(data=df,x='smoker',y='charges');"
   ]
  },
  {
   "cell_type": "code",
   "execution_count": 149,
   "id": "6b6ac9e8-f507-46f1-a046-cdd40807440d",
   "metadata": {},
   "outputs": [
    {
     "data": {
      "text/html": [
       "<div>\n",
       "<style scoped>\n",
       "    .dataframe tbody tr th:only-of-type {\n",
       "        vertical-align: middle;\n",
       "    }\n",
       "\n",
       "    .dataframe tbody tr th {\n",
       "        vertical-align: top;\n",
       "    }\n",
       "\n",
       "    .dataframe thead th {\n",
       "        text-align: right;\n",
       "    }\n",
       "</style>\n",
       "<table border=\"1\" class=\"dataframe\">\n",
       "  <thead>\n",
       "    <tr style=\"text-align: right;\">\n",
       "      <th></th>\n",
       "      <th>age</th>\n",
       "      <th>sex</th>\n",
       "      <th>bmi</th>\n",
       "      <th>children</th>\n",
       "      <th>smoker</th>\n",
       "      <th>region</th>\n",
       "      <th>charges</th>\n",
       "      <th>smoker_code</th>\n",
       "    </tr>\n",
       "  </thead>\n",
       "  <tbody>\n",
       "    <tr>\n",
       "      <th>0</th>\n",
       "      <td>19</td>\n",
       "      <td>female</td>\n",
       "      <td>27.900</td>\n",
       "      <td>0</td>\n",
       "      <td>yes</td>\n",
       "      <td>southwest</td>\n",
       "      <td>16884.92400</td>\n",
       "      <td>1</td>\n",
       "    </tr>\n",
       "    <tr>\n",
       "      <th>1</th>\n",
       "      <td>18</td>\n",
       "      <td>male</td>\n",
       "      <td>33.770</td>\n",
       "      <td>1</td>\n",
       "      <td>no</td>\n",
       "      <td>southeast</td>\n",
       "      <td>1725.55230</td>\n",
       "      <td>0</td>\n",
       "    </tr>\n",
       "    <tr>\n",
       "      <th>2</th>\n",
       "      <td>28</td>\n",
       "      <td>male</td>\n",
       "      <td>33.000</td>\n",
       "      <td>3</td>\n",
       "      <td>no</td>\n",
       "      <td>southeast</td>\n",
       "      <td>4449.46200</td>\n",
       "      <td>0</td>\n",
       "    </tr>\n",
       "    <tr>\n",
       "      <th>3</th>\n",
       "      <td>33</td>\n",
       "      <td>male</td>\n",
       "      <td>22.705</td>\n",
       "      <td>0</td>\n",
       "      <td>no</td>\n",
       "      <td>northwest</td>\n",
       "      <td>21984.47061</td>\n",
       "      <td>0</td>\n",
       "    </tr>\n",
       "    <tr>\n",
       "      <th>4</th>\n",
       "      <td>32</td>\n",
       "      <td>male</td>\n",
       "      <td>28.880</td>\n",
       "      <td>0</td>\n",
       "      <td>no</td>\n",
       "      <td>northwest</td>\n",
       "      <td>3866.85520</td>\n",
       "      <td>0</td>\n",
       "    </tr>\n",
       "    <tr>\n",
       "      <th>5</th>\n",
       "      <td>31</td>\n",
       "      <td>female</td>\n",
       "      <td>25.740</td>\n",
       "      <td>0</td>\n",
       "      <td>no</td>\n",
       "      <td>southeast</td>\n",
       "      <td>3756.62160</td>\n",
       "      <td>0</td>\n",
       "    </tr>\n",
       "    <tr>\n",
       "      <th>6</th>\n",
       "      <td>46</td>\n",
       "      <td>female</td>\n",
       "      <td>33.440</td>\n",
       "      <td>1</td>\n",
       "      <td>no</td>\n",
       "      <td>southeast</td>\n",
       "      <td>8240.58960</td>\n",
       "      <td>0</td>\n",
       "    </tr>\n",
       "    <tr>\n",
       "      <th>7</th>\n",
       "      <td>37</td>\n",
       "      <td>female</td>\n",
       "      <td>27.740</td>\n",
       "      <td>3</td>\n",
       "      <td>no</td>\n",
       "      <td>northwest</td>\n",
       "      <td>7281.50560</td>\n",
       "      <td>0</td>\n",
       "    </tr>\n",
       "    <tr>\n",
       "      <th>8</th>\n",
       "      <td>37</td>\n",
       "      <td>male</td>\n",
       "      <td>29.830</td>\n",
       "      <td>2</td>\n",
       "      <td>no</td>\n",
       "      <td>northeast</td>\n",
       "      <td>6406.41070</td>\n",
       "      <td>0</td>\n",
       "    </tr>\n",
       "    <tr>\n",
       "      <th>9</th>\n",
       "      <td>60</td>\n",
       "      <td>female</td>\n",
       "      <td>25.840</td>\n",
       "      <td>0</td>\n",
       "      <td>no</td>\n",
       "      <td>northwest</td>\n",
       "      <td>28923.13692</td>\n",
       "      <td>0</td>\n",
       "    </tr>\n",
       "  </tbody>\n",
       "</table>\n",
       "</div>"
      ],
      "text/plain": [
       "   age     sex     bmi  children smoker     region      charges  smoker_code\n",
       "0   19  female  27.900         0    yes  southwest  16884.92400            1\n",
       "1   18    male  33.770         1     no  southeast   1725.55230            0\n",
       "2   28    male  33.000         3     no  southeast   4449.46200            0\n",
       "3   33    male  22.705         0     no  northwest  21984.47061            0\n",
       "4   32    male  28.880         0     no  northwest   3866.85520            0\n",
       "5   31  female  25.740         0     no  southeast   3756.62160            0\n",
       "6   46  female  33.440         1     no  southeast   8240.58960            0\n",
       "7   37  female  27.740         3     no  northwest   7281.50560            0\n",
       "8   37    male  29.830         2     no  northeast   6406.41070            0\n",
       "9   60  female  25.840         0     no  northwest  28923.13692            0"
      ]
     },
     "execution_count": 149,
     "metadata": {},
     "output_type": "execute_result"
    }
   ],
   "source": [
    "smoker_code={'yes':1,'no':0}\n",
    "df['smoker_code']=df.smoker.map(smoker_code)\n",
    "df.head(10)"
   ]
  },
  {
   "cell_type": "code",
   "execution_count": 150,
   "id": "bdc8bfb2-253b-4df7-a0eb-d481c02474dc",
   "metadata": {},
   "outputs": [
    {
     "data": {
      "text/plain": [
       "0.7872514304984767"
      ]
     },
     "execution_count": 150,
     "metadata": {},
     "output_type": "execute_result"
    }
   ],
   "source": [
    "df.charges.corr(df.smoker_code)"
   ]
  },
  {
   "cell_type": "code",
   "execution_count": 151,
   "id": "d34711c4-8cdb-4a7d-81ae-3d39736f8c24",
   "metadata": {},
   "outputs": [],
   "source": [
    "#Lets create a function for LinearRegression mmodel\n",
    "\n",
    "def LinearRegression_method(inputs,targets):\n",
    "    # Create and train the model\n",
    "    model = LinearRegression().fit(inputs, targets)\n",
    "\n",
    "# Generate predictions\n",
    "    predictions = model.predict(inputs)\n",
    "\n",
    "# Compute loss to evalute the model\n",
    "    loss = rmse(targets, predictions)\n",
    "    print('Loss:', loss)\n"
   ]
  },
  {
   "cell_type": "markdown",
   "id": "8be22d04-79d3-4b63-bffb-806e69482f29",
   "metadata": {},
   "source": [
    "    We can now use the smoker_code column for linear regression.\n",
    ">charges=w1​×age+w2​×bmi+w3​×charges+w4​×smoker+b"
   ]
  },
  {
   "cell_type": "code",
   "execution_count": 153,
   "id": "5cf5eb5a-f180-40a7-bcfb-8de0f63d5068",
   "metadata": {},
   "outputs": [
    {
     "name": "stdout",
     "output_type": "stream",
     "text": [
      "Loss: 6056.439217188081\n"
     ]
    }
   ],
   "source": [
    "# Create inputs and targets\n",
    "inputs, targets = df[['age', 'bmi', 'children', 'smoker_code']], df['charges']\n",
    "\n",
    "#lets call LinearRegression_method()\n",
    "LinearRegression_method(inputs,targets)"
   ]
  },
  {
   "cell_type": "markdown",
   "id": "cf9119db-8559-4a63-b776-ef9feff5116e",
   "metadata": {},
   "source": [
    "    The loss reduces from 11355 to 6056, almost by 50%! This is an important lesson: never ignore categorical data.\n",
    "\n",
    "    Let's try adding the \"sex\" column as well.\n",
    ">charges=w1​×age+w2​×bmi+w3​×charges+w4​×smoker+w5​×sex+b"
   ]
  },
  {
   "cell_type": "code",
   "execution_count": 155,
   "id": "8e9a6f04-d548-45fa-ac18-205b8020c0d5",
   "metadata": {},
   "outputs": [
    {
     "data": {
      "text/plain": [
       "<Axes: xlabel='sex', ylabel='charges'>"
      ]
     },
     "execution_count": 155,
     "metadata": {},
     "output_type": "execute_result"
    },
    {
     "data": {
      "image/png": "[encoded data removed]",
      "text/plain": [
       "<Figure size 1000x600 with 1 Axes>"
      ]
     },
     "metadata": {
      "needs_background": "light"
     },
     "output_type": "display_data"
    }
   ],
   "source": [
    "sns.barplot(data=df, x='sex', y='charges')"
   ]
  },
  {
   "cell_type": "code",
   "execution_count": 156,
   "id": "31fcfa03-6824-4190-a3fc-c213cd9ae6bb",
   "metadata": {},
   "outputs": [
    {
     "data": {
      "text/html": [
       "<div>\n",
       "<style scoped>\n",
       "    .dataframe tbody tr th:only-of-type {\n",
       "        vertical-align: middle;\n",
       "    }\n",
       "\n",
       "    .dataframe tbody tr th {\n",
       "        vertical-align: top;\n",
       "    }\n",
       "\n",
       "    .dataframe thead th {\n",
       "        text-align: right;\n",
       "    }\n",
       "</style>\n",
       "<table border=\"1\" class=\"dataframe\">\n",
       "  <thead>\n",
       "    <tr style=\"text-align: right;\">\n",
       "      <th></th>\n",
       "      <th>age</th>\n",
       "      <th>sex</th>\n",
       "      <th>bmi</th>\n",
       "      <th>children</th>\n",
       "      <th>smoker</th>\n",
       "      <th>region</th>\n",
       "      <th>charges</th>\n",
       "      <th>smoker_code</th>\n",
       "      <th>sex_code</th>\n",
       "    </tr>\n",
       "  </thead>\n",
       "  <tbody>\n",
       "    <tr>\n",
       "      <th>0</th>\n",
       "      <td>19</td>\n",
       "      <td>female</td>\n",
       "      <td>27.900</td>\n",
       "      <td>0</td>\n",
       "      <td>yes</td>\n",
       "      <td>southwest</td>\n",
       "      <td>16884.92400</td>\n",
       "      <td>1</td>\n",
       "      <td>0</td>\n",
       "    </tr>\n",
       "    <tr>\n",
       "      <th>1</th>\n",
       "      <td>18</td>\n",
       "      <td>male</td>\n",
       "      <td>33.770</td>\n",
       "      <td>1</td>\n",
       "      <td>no</td>\n",
       "      <td>southeast</td>\n",
       "      <td>1725.55230</td>\n",
       "      <td>0</td>\n",
       "      <td>1</td>\n",
       "    </tr>\n",
       "    <tr>\n",
       "      <th>2</th>\n",
       "      <td>28</td>\n",
       "      <td>male</td>\n",
       "      <td>33.000</td>\n",
       "      <td>3</td>\n",
       "      <td>no</td>\n",
       "      <td>southeast</td>\n",
       "      <td>4449.46200</td>\n",
       "      <td>0</td>\n",
       "      <td>1</td>\n",
       "    </tr>\n",
       "    <tr>\n",
       "      <th>3</th>\n",
       "      <td>33</td>\n",
       "      <td>male</td>\n",
       "      <td>22.705</td>\n",
       "      <td>0</td>\n",
       "      <td>no</td>\n",
       "      <td>northwest</td>\n",
       "      <td>21984.47061</td>\n",
       "      <td>0</td>\n",
       "      <td>1</td>\n",
       "    </tr>\n",
       "    <tr>\n",
       "      <th>4</th>\n",
       "      <td>32</td>\n",
       "      <td>male</td>\n",
       "      <td>28.880</td>\n",
       "      <td>0</td>\n",
       "      <td>no</td>\n",
       "      <td>northwest</td>\n",
       "      <td>3866.85520</td>\n",
       "      <td>0</td>\n",
       "      <td>1</td>\n",
       "    </tr>\n",
       "    <tr>\n",
       "      <th>5</th>\n",
       "      <td>31</td>\n",
       "      <td>female</td>\n",
       "      <td>25.740</td>\n",
       "      <td>0</td>\n",
       "      <td>no</td>\n",
       "      <td>southeast</td>\n",
       "      <td>3756.62160</td>\n",
       "      <td>0</td>\n",
       "      <td>0</td>\n",
       "    </tr>\n",
       "    <tr>\n",
       "      <th>6</th>\n",
       "      <td>46</td>\n",
       "      <td>female</td>\n",
       "      <td>33.440</td>\n",
       "      <td>1</td>\n",
       "      <td>no</td>\n",
       "      <td>southeast</td>\n",
       "      <td>8240.58960</td>\n",
       "      <td>0</td>\n",
       "      <td>0</td>\n",
       "    </tr>\n",
       "    <tr>\n",
       "      <th>7</th>\n",
       "      <td>37</td>\n",
       "      <td>female</td>\n",
       "      <td>27.740</td>\n",
       "      <td>3</td>\n",
       "      <td>no</td>\n",
       "      <td>northwest</td>\n",
       "      <td>7281.50560</td>\n",
       "      <td>0</td>\n",
       "      <td>0</td>\n",
       "    </tr>\n",
       "    <tr>\n",
       "      <th>8</th>\n",
       "      <td>37</td>\n",
       "      <td>male</td>\n",
       "      <td>29.830</td>\n",
       "      <td>2</td>\n",
       "      <td>no</td>\n",
       "      <td>northeast</td>\n",
       "      <td>6406.41070</td>\n",
       "      <td>0</td>\n",
       "      <td>1</td>\n",
       "    </tr>\n",
       "    <tr>\n",
       "      <th>9</th>\n",
       "      <td>60</td>\n",
       "      <td>female</td>\n",
       "      <td>25.840</td>\n",
       "      <td>0</td>\n",
       "      <td>no</td>\n",
       "      <td>northwest</td>\n",
       "      <td>28923.13692</td>\n",
       "      <td>0</td>\n",
       "      <td>0</td>\n",
       "    </tr>\n",
       "  </tbody>\n",
       "</table>\n",
       "</div>"
      ],
      "text/plain": [
       "   age     sex     bmi  children smoker     region      charges  smoker_code  \\\n",
       "0   19  female  27.900         0    yes  southwest  16884.92400            1   \n",
       "1   18    male  33.770         1     no  southeast   1725.55230            0   \n",
       "2   28    male  33.000         3     no  southeast   4449.46200            0   \n",
       "3   33    male  22.705         0     no  northwest  21984.47061            0   \n",
       "4   32    male  28.880         0     no  northwest   3866.85520            0   \n",
       "5   31  female  25.740         0     no  southeast   3756.62160            0   \n",
       "6   46  female  33.440         1     no  southeast   8240.58960            0   \n",
       "7   37  female  27.740         3     no  northwest   7281.50560            0   \n",
       "8   37    male  29.830         2     no  northeast   6406.41070            0   \n",
       "9   60  female  25.840         0     no  northwest  28923.13692            0   \n",
       "\n",
       "   sex_code  \n",
       "0         0  \n",
       "1         1  \n",
       "2         1  \n",
       "3         1  \n",
       "4         1  \n",
       "5         0  \n",
       "6         0  \n",
       "7         0  \n",
       "8         1  \n",
       "9         0  "
      ]
     },
     "execution_count": 156,
     "metadata": {},
     "output_type": "execute_result"
    }
   ],
   "source": [
    "sex_code={'female':0,'male':1}\n",
    "df['sex_code']=df.sex.map(sex_code)\n",
    "df.head(10)"
   ]
  },
  {
   "cell_type": "code",
   "execution_count": 157,
   "id": "6294a835-162e-48c3-9b89-f76f28ec8369",
   "metadata": {},
   "outputs": [
    {
     "data": {
      "text/plain": [
       "0.057292062202025366"
      ]
     },
     "execution_count": 157,
     "metadata": {},
     "output_type": "execute_result"
    }
   ],
   "source": [
    "df.charges.corr(df.sex_code)"
   ]
  },
  {
   "cell_type": "code",
   "execution_count": 158,
   "id": "b1335b1e-937f-410a-bc7d-6ecfa73d0236",
   "metadata": {},
   "outputs": [
    {
     "name": "stdout",
     "output_type": "stream",
     "text": [
      "Loss: 6056.100708754546\n"
     ]
    }
   ],
   "source": [
    "# Create inputs and targets\n",
    "inputs,targets=df[['age','bmi','children','smoker_code','sex_code']],df['charges']\n",
    "\n",
    "#lets call LinearRegression_method\n",
    "LinearRegression_method(inputs,targets)"
   ]
  },
  {
   "cell_type": "markdown",
   "id": "764e2a0c-48bf-4e65-8b54-f94fd8becee9",
   "metadata": {},
   "source": [
    "    As you might expect, this doesn't have a significant impact on the loss. We can alos ignore sex column if we want"
   ]
  },
  {
   "cell_type": "markdown",
   "id": "4d4b6184-c3d9-4453-a7f5-00bedda5294c",
   "metadata": {},
   "source": [
    "## One-hot Encoding\n",
    "    The \"region\" column contains 4 values, so we'll need to use hot encoding and create a new column for each region.\n",
    "<img src=\"One-hot Encoding.png\" >"
   ]
  },
  {
   "cell_type": "code",
   "execution_count": 161,
   "id": "44ccd6df-8bc3-4be8-bc75-d9477cb9ed3a",
   "metadata": {},
   "outputs": [
    {
     "data": {
      "text/plain": [
       "array(['southwest', 'southeast', 'northwest', 'northeast'], dtype=object)"
      ]
     },
     "execution_count": 161,
     "metadata": {},
     "output_type": "execute_result"
    }
   ],
   "source": [
    "df.region.unique()"
   ]
  },
  {
   "cell_type": "code",
   "execution_count": 162,
   "id": "df800de8-8219-4cef-aec9-d27a72556c4b",
   "metadata": {},
   "outputs": [
    {
     "data": {
      "image/png": "[encoded data removed]",
      "text/plain": [
       "<Figure size 1000x600 with 1 Axes>"
      ]
     },
     "metadata": {
      "needs_background": "light"
     },
     "output_type": "display_data"
    }
   ],
   "source": [
    "sns.barplot(data=df, x='region', y='charges');"
   ]
  },
  {
   "cell_type": "code",
   "execution_count": 163,
   "id": "f9b8c53d-507d-4a2a-b424-e42a5ff36003",
   "metadata": {},
   "outputs": [
    {
     "data": {
      "text/plain": [
       "[array(['northeast', 'northwest', 'southeast', 'southwest'], dtype=object)]"
      ]
     },
     "execution_count": 163,
     "metadata": {},
     "output_type": "execute_result"
    }
   ],
   "source": [
    "from sklearn import preprocessing\n",
    "\n",
    "# ✅ Step 1: Create the encoder object for one-hot encoding\n",
    "enc=preprocessing.OneHotEncoder()\n",
    "\n",
    "# ✅ Step 2: Fit the encoder on the 'region' column to learn the unique region values\n",
    "enc.fit(df[[\"region\"]])\n",
    "enc.categories_"
   ]
  },
  {
   "cell_type": "code",
   "execution_count": 164,
   "id": "a12fa0e5-58f2-46b5-9155-757e45d49336",
   "metadata": {},
   "outputs": [
    {
     "data": {
      "text/plain": [
       "array([[0., 0., 0., 1.],\n",
       "       [0., 0., 1., 0.],\n",
       "       [0., 0., 1., 0.],\n",
       "       ...,\n",
       "       [0., 0., 1., 0.],\n",
       "       [0., 0., 0., 1.],\n",
       "       [0., 1., 0., 0.]])"
      ]
     },
     "execution_count": 164,
     "metadata": {},
     "output_type": "execute_result"
    }
   ],
   "source": [
    "# ✅ Step 3: Transform the 'region' column into one-hot encoded array\n",
    "# It returns a binary matrix (0s and 1s for each region)\n",
    "one_hot=enc.transform(df[[\"region\"]]).toarray()\n",
    "one_hot"
   ]
  },
  {
   "cell_type": "code",
   "execution_count": 165,
   "id": "8af765e5-8b88-4222-bde1-0816343a464f",
   "metadata": {
    "scrolled": true
   },
   "outputs": [
    {
     "data": {
      "text/html": [
       "<div>\n",
       "<style scoped>\n",
       "    .dataframe tbody tr th:only-of-type {\n",
       "        vertical-align: middle;\n",
       "    }\n",
       "\n",
       "    .dataframe tbody tr th {\n",
       "        vertical-align: top;\n",
       "    }\n",
       "\n",
       "    .dataframe thead th {\n",
       "        text-align: right;\n",
       "    }\n",
       "</style>\n",
       "<table border=\"1\" class=\"dataframe\">\n",
       "  <thead>\n",
       "    <tr style=\"text-align: right;\">\n",
       "      <th></th>\n",
       "      <th>age</th>\n",
       "      <th>sex</th>\n",
       "      <th>bmi</th>\n",
       "      <th>children</th>\n",
       "      <th>smoker</th>\n",
       "      <th>region</th>\n",
       "      <th>charges</th>\n",
       "      <th>smoker_code</th>\n",
       "      <th>sex_code</th>\n",
       "      <th>northeast</th>\n",
       "      <th>northwest</th>\n",
       "      <th>southeast</th>\n",
       "      <th>southwest</th>\n",
       "    </tr>\n",
       "  </thead>\n",
       "  <tbody>\n",
       "    <tr>\n",
       "      <th>0</th>\n",
       "      <td>19</td>\n",
       "      <td>female</td>\n",
       "      <td>27.900</td>\n",
       "      <td>0</td>\n",
       "      <td>yes</td>\n",
       "      <td>southwest</td>\n",
       "      <td>16884.92400</td>\n",
       "      <td>1</td>\n",
       "      <td>0</td>\n",
       "      <td>0.0</td>\n",
       "      <td>0.0</td>\n",
       "      <td>0.0</td>\n",
       "      <td>1.0</td>\n",
       "    </tr>\n",
       "    <tr>\n",
       "      <th>1</th>\n",
       "      <td>18</td>\n",
       "      <td>male</td>\n",
       "      <td>33.770</td>\n",
       "      <td>1</td>\n",
       "      <td>no</td>\n",
       "      <td>southeast</td>\n",
       "      <td>1725.55230</td>\n",
       "      <td>0</td>\n",
       "      <td>1</td>\n",
       "      <td>0.0</td>\n",
       "      <td>0.0</td>\n",
       "      <td>1.0</td>\n",
       "      <td>0.0</td>\n",
       "    </tr>\n",
       "    <tr>\n",
       "      <th>2</th>\n",
       "      <td>28</td>\n",
       "      <td>male</td>\n",
       "      <td>33.000</td>\n",
       "      <td>3</td>\n",
       "      <td>no</td>\n",
       "      <td>southeast</td>\n",
       "      <td>4449.46200</td>\n",
       "      <td>0</td>\n",
       "      <td>1</td>\n",
       "      <td>0.0</td>\n",
       "      <td>0.0</td>\n",
       "      <td>1.0</td>\n",
       "      <td>0.0</td>\n",
       "    </tr>\n",
       "    <tr>\n",
       "      <th>3</th>\n",
       "      <td>33</td>\n",
       "      <td>male</td>\n",
       "      <td>22.705</td>\n",
       "      <td>0</td>\n",
       "      <td>no</td>\n",
       "      <td>northwest</td>\n",
       "      <td>21984.47061</td>\n",
       "      <td>0</td>\n",
       "      <td>1</td>\n",
       "      <td>0.0</td>\n",
       "      <td>1.0</td>\n",
       "      <td>0.0</td>\n",
       "      <td>0.0</td>\n",
       "    </tr>\n",
       "    <tr>\n",
       "      <th>4</th>\n",
       "      <td>32</td>\n",
       "      <td>male</td>\n",
       "      <td>28.880</td>\n",
       "      <td>0</td>\n",
       "      <td>no</td>\n",
       "      <td>northwest</td>\n",
       "      <td>3866.85520</td>\n",
       "      <td>0</td>\n",
       "      <td>1</td>\n",
       "      <td>0.0</td>\n",
       "      <td>1.0</td>\n",
       "      <td>0.0</td>\n",
       "      <td>0.0</td>\n",
       "    </tr>\n",
       "    <tr>\n",
       "      <th>...</th>\n",
       "      <td>...</td>\n",
       "      <td>...</td>\n",
       "      <td>...</td>\n",
       "      <td>...</td>\n",
       "      <td>...</td>\n",
       "      <td>...</td>\n",
       "      <td>...</td>\n",
       "      <td>...</td>\n",
       "      <td>...</td>\n",
       "      <td>...</td>\n",
       "      <td>...</td>\n",
       "      <td>...</td>\n",
       "      <td>...</td>\n",
       "    </tr>\n",
       "    <tr>\n",
       "      <th>1333</th>\n",
       "      <td>50</td>\n",
       "      <td>male</td>\n",
       "      <td>30.970</td>\n",
       "      <td>3</td>\n",
       "      <td>no</td>\n",
       "      <td>northwest</td>\n",
       "      <td>10600.54830</td>\n",
       "      <td>0</td>\n",
       "      <td>1</td>\n",
       "      <td>0.0</td>\n",
       "      <td>1.0</td>\n",
       "      <td>0.0</td>\n",
       "      <td>0.0</td>\n",
       "    </tr>\n",
       "    <tr>\n",
       "      <th>1334</th>\n",
       "      <td>18</td>\n",
       "      <td>female</td>\n",
       "      <td>31.920</td>\n",
       "      <td>0</td>\n",
       "      <td>no</td>\n",
       "      <td>northeast</td>\n",
       "      <td>2205.98080</td>\n",
       "      <td>0</td>\n",
       "      <td>0</td>\n",
       "      <td>1.0</td>\n",
       "      <td>0.0</td>\n",
       "      <td>0.0</td>\n",
       "      <td>0.0</td>\n",
       "    </tr>\n",
       "    <tr>\n",
       "      <th>1335</th>\n",
       "      <td>18</td>\n",
       "      <td>female</td>\n",
       "      <td>36.850</td>\n",
       "      <td>0</td>\n",
       "      <td>no</td>\n",
       "      <td>southeast</td>\n",
       "      <td>1629.83350</td>\n",
       "      <td>0</td>\n",
       "      <td>0</td>\n",
       "      <td>0.0</td>\n",
       "      <td>0.0</td>\n",
       "      <td>1.0</td>\n",
       "      <td>0.0</td>\n",
       "    </tr>\n",
       "    <tr>\n",
       "      <th>1336</th>\n",
       "      <td>21</td>\n",
       "      <td>female</td>\n",
       "      <td>25.800</td>\n",
       "      <td>0</td>\n",
       "      <td>no</td>\n",
       "      <td>southwest</td>\n",
       "      <td>2007.94500</td>\n",
       "      <td>0</td>\n",
       "      <td>0</td>\n",
       "      <td>0.0</td>\n",
       "      <td>0.0</td>\n",
       "      <td>0.0</td>\n",
       "      <td>1.0</td>\n",
       "    </tr>\n",
       "    <tr>\n",
       "      <th>1337</th>\n",
       "      <td>61</td>\n",
       "      <td>female</td>\n",
       "      <td>29.070</td>\n",
       "      <td>0</td>\n",
       "      <td>yes</td>\n",
       "      <td>northwest</td>\n",
       "      <td>29141.36030</td>\n",
       "      <td>1</td>\n",
       "      <td>0</td>\n",
       "      <td>0.0</td>\n",
       "      <td>1.0</td>\n",
       "      <td>0.0</td>\n",
       "      <td>0.0</td>\n",
       "    </tr>\n",
       "  </tbody>\n",
       "</table>\n",
       "<p>1338 rows × 13 columns</p>\n",
       "</div>"
      ],
      "text/plain": [
       "      age     sex     bmi  children smoker     region      charges  \\\n",
       "0      19  female  27.900         0    yes  southwest  16884.92400   \n",
       "1      18    male  33.770         1     no  southeast   1725.55230   \n",
       "2      28    male  33.000         3     no  southeast   4449.46200   \n",
       "3      33    male  22.705         0     no  northwest  21984.47061   \n",
       "4      32    male  28.880         0     no  northwest   3866.85520   \n",
       "...   ...     ...     ...       ...    ...        ...          ...   \n",
       "1333   50    male  30.970         3     no  northwest  10600.54830   \n",
       "1334   18  female  31.920         0     no  northeast   2205.98080   \n",
       "1335   18  female  36.850         0     no  southeast   1629.83350   \n",
       "1336   21  female  25.800         0     no  southwest   2007.94500   \n",
       "1337   61  female  29.070         0    yes  northwest  29141.36030   \n",
       "\n",
       "      smoker_code  sex_code  northeast  northwest  southeast  southwest  \n",
       "0               1         0        0.0        0.0        0.0        1.0  \n",
       "1               0         1        0.0        0.0        1.0        0.0  \n",
       "2               0         1        0.0        0.0        1.0        0.0  \n",
       "3               0         1        0.0        1.0        0.0        0.0  \n",
       "4               0         1        0.0        1.0        0.0        0.0  \n",
       "...           ...       ...        ...        ...        ...        ...  \n",
       "1333            0         1        0.0        1.0        0.0        0.0  \n",
       "1334            0         0        1.0        0.0        0.0        0.0  \n",
       "1335            0         0        0.0        0.0        1.0        0.0  \n",
       "1336            0         0        0.0        0.0        0.0        1.0  \n",
       "1337            1         0        0.0        1.0        0.0        0.0  \n",
       "\n",
       "[1338 rows x 13 columns]"
      ]
     },
     "execution_count": 165,
     "metadata": {},
     "output_type": "execute_result"
    }
   ],
   "source": [
    "# ✅ Step 4: Assign the one-hot encoded matrix to new columns in the DataFrame\n",
    "# Each column represents one region — 1 if the row belongs to that region, else 0\n",
    "df[['northeast', 'northwest', 'southeast', 'southwest']]=one_hot\n",
    "df\n",
    "#one-hot encoding is a one-to-many transformation.\n",
    "#For each value in 'region', you're creating multiple binary columns (like northeast, northwest, etc.). \n",
    "#That can’t be done with map()[map() is used for one-to-one transformations.] — it’s not built for multi-column expansions.\n"
   ]
  },
  {
   "cell_type": "markdown",
   "id": "dfe19821-801f-4376-88d6-6b480b8227cb",
   "metadata": {},
   "source": [
    "    Let's include the region columns into our linear regression model.\n",
    ">charges=w1​×age+w2​×bmi+w3​×charges+w4​×smoker+w5​×sex+w6​×region1+w7​×region2+w8​×region3+w9​×region4+b"
   ]
  },
  {
   "cell_type": "code",
   "execution_count": 167,
   "id": "dd5d7370-ab4c-4ce2-b475-83a028d5c892",
   "metadata": {},
   "outputs": [
    {
     "name": "stdout",
     "output_type": "stream",
     "text": [
      "Loss: 6041.6796511744515\n"
     ]
    }
   ],
   "source": [
    "# Create inputs and targets\n",
    "input_cols = ['age', 'bmi', 'children', 'smoker_code', 'sex_code', 'northeast', 'northwest', 'southeast', 'southwest']\n",
    "inputs, targets = df[input_cols], df['charges']\n",
    "\n",
    "#lets call LinearRegression_method\n",
    "# Create and train the model\n",
    "model = LinearRegression().fit(inputs, targets)\n",
    "\n",
    "# Generate predictions\n",
    "predictions = model.predict(inputs)\n",
    "\n",
    "# Compute loss to evalute the model\n",
    "loss = rmse(targets, predictions)\n",
    "print('Loss:', loss)"
   ]
  },
  {
   "cell_type": "markdown",
   "id": "f515a1b4-f9af-49bc-a255-24dde1c6f331",
   "metadata": {},
   "source": [
    "    Once again, this leads to a fairly small reduction in the loss.  we can clearly see that lot of these other facetor are not helping. It seems like age and smoker were the two biggest factor and rest of them dont really matter"
   ]
  },
  {
   "cell_type": "markdown",
   "id": "bd425626-7922-443d-945b-5b70ecc845b1",
   "metadata": {},
   "source": [
    "     We can see wo separate linear regression models, one for smokers and one of non-smokers, better than a single linear regression model"
   ]
  },
  {
   "cell_type": "markdown",
   "id": "83a43269-a090-4dfc-8be2-8cf15479df35",
   "metadata": {},
   "source": [
    "# Model Improvements\n",
    "    Let's discuss and apply some more improvements to our model.\n",
    "\n",
    "## Feature Scaling\n",
    "    Recall that due to regulatory requirements, we also need to explain the rationale behind the predictions our model.\n",
    "\n",
    ">charges=w1​×age+w2​×bmi+w3​×charges+w4​×smoker+w5​×sex+w6​×region+b\n",
    "\n",
    "    To compare the importance of each feature in the model, our first instinct might be to compare their weights."
   ]
  },
  {
   "cell_type": "code",
   "execution_count": 171,
   "id": "4438f926-5827-4fb8-94c4-f445630d698c",
   "metadata": {},
   "outputs": [
    {
     "data": {
      "text/plain": [
       "(array([  256.85635254,   339.19345361,   475.50054515, 23848.53454191,\n",
       "         -131.3143594 ,   587.00923503,   234.0453356 ,  -448.01281436,\n",
       "         -373.04175627]),\n",
       " -12525.547811195444)"
      ]
     },
     "execution_count": 171,
     "metadata": {},
     "output_type": "execute_result"
    }
   ],
   "source": [
    "model.coef_,model.intercept_"
   ]
  },
  {
   "cell_type": "code",
   "execution_count": 172,
   "id": "2fc75969-4543-4c0f-92d7-c6cefd2b45a2",
   "metadata": {},
   "outputs": [
    {
     "data": {
      "text/html": [
       "<div>\n",
       "<style scoped>\n",
       "    .dataframe tbody tr th:only-of-type {\n",
       "        vertical-align: middle;\n",
       "    }\n",
       "\n",
       "    .dataframe tbody tr th {\n",
       "        vertical-align: top;\n",
       "    }\n",
       "\n",
       "    .dataframe thead th {\n",
       "        text-align: right;\n",
       "    }\n",
       "</style>\n",
       "<table border=\"1\" class=\"dataframe\">\n",
       "  <thead>\n",
       "    <tr style=\"text-align: right;\">\n",
       "      <th></th>\n",
       "      <th>feature</th>\n",
       "      <th>weight</th>\n",
       "    </tr>\n",
       "  </thead>\n",
       "  <tbody>\n",
       "    <tr>\n",
       "      <th>0</th>\n",
       "      <td>age</td>\n",
       "      <td>256.856353</td>\n",
       "    </tr>\n",
       "    <tr>\n",
       "      <th>1</th>\n",
       "      <td>bmi</td>\n",
       "      <td>339.193454</td>\n",
       "    </tr>\n",
       "    <tr>\n",
       "      <th>2</th>\n",
       "      <td>children</td>\n",
       "      <td>475.500545</td>\n",
       "    </tr>\n",
       "    <tr>\n",
       "      <th>3</th>\n",
       "      <td>smoker_code</td>\n",
       "      <td>23848.534542</td>\n",
       "    </tr>\n",
       "    <tr>\n",
       "      <th>4</th>\n",
       "      <td>sex_code</td>\n",
       "      <td>-131.314359</td>\n",
       "    </tr>\n",
       "    <tr>\n",
       "      <th>5</th>\n",
       "      <td>northeast</td>\n",
       "      <td>587.009235</td>\n",
       "    </tr>\n",
       "    <tr>\n",
       "      <th>6</th>\n",
       "      <td>northwest</td>\n",
       "      <td>234.045336</td>\n",
       "    </tr>\n",
       "    <tr>\n",
       "      <th>7</th>\n",
       "      <td>southeast</td>\n",
       "      <td>-448.012814</td>\n",
       "    </tr>\n",
       "    <tr>\n",
       "      <th>8</th>\n",
       "      <td>southwest</td>\n",
       "      <td>-373.041756</td>\n",
       "    </tr>\n",
       "    <tr>\n",
       "      <th>9</th>\n",
       "      <td>bias</td>\n",
       "      <td>-12525.547811</td>\n",
       "    </tr>\n",
       "  </tbody>\n",
       "</table>\n",
       "</div>"
      ],
      "text/plain": [
       "       feature        weight\n",
       "0          age    256.856353\n",
       "1          bmi    339.193454\n",
       "2     children    475.500545\n",
       "3  smoker_code  23848.534542\n",
       "4     sex_code   -131.314359\n",
       "5    northeast    587.009235\n",
       "6    northwest    234.045336\n",
       "7    southeast   -448.012814\n",
       "8    southwest   -373.041756\n",
       "9         bias -12525.547811"
      ]
     },
     "execution_count": 172,
     "metadata": {},
     "output_type": "execute_result"
    }
   ],
   "source": [
    "weights_df = pd.DataFrame({\n",
    "    'feature': input_cols + ['bias'],          \n",
    "    'weight': list(model.coef_) + [model.intercept_]\n",
    "})\n",
    "weights_df"
   ]
  },
  {
   "cell_type": "markdown",
   "id": "c263ac97-685f-4fde-a5aa-83b4c52d1802",
   "metadata": {},
   "source": [
    "    While it seems like BMI and the \"northeast\" have a higher weight than age, keep in mind that the range of values for BMI is limited (15 to 40) and the \"northeast\" column only takes the values 0 and 1.\n",
    "\n",
    "    Because different columns have different ranges, we run into two issues:\n",
    "\n",
    ">We can't compare the weights of different column to identify which features are important\n",
    "\n",
    ">A column with a larger range of inputs may disproportionately affect the loss and dominate the optimization process.\n",
    "\n",
    "    For this reason, it's common practice to scale (or standardize) the values in numeric column by subtracting the mean and dividing by the standard deviation.\n",
    "<img src=\"Scaling.png\">"
   ]
  },
  {
   "cell_type": "markdown",
   "id": "99ad909d-d0f3-4620-a490-1c3d8432ad03",
   "metadata": {},
   "source": [
    "    We can apply scaling using the StandardScaler class from scikit-learn."
   ]
  },
  {
   "cell_type": "code",
   "execution_count": 175,
   "id": "2531eb61-8244-4529-974c-c862d3a9312c",
   "metadata": {},
   "outputs": [
    {
     "data": {
      "text/html": [
       "<div>\n",
       "<style scoped>\n",
       "    .dataframe tbody tr th:only-of-type {\n",
       "        vertical-align: middle;\n",
       "    }\n",
       "\n",
       "    .dataframe tbody tr th {\n",
       "        vertical-align: top;\n",
       "    }\n",
       "\n",
       "    .dataframe thead th {\n",
       "        text-align: right;\n",
       "    }\n",
       "</style>\n",
       "<table border=\"1\" class=\"dataframe\">\n",
       "  <thead>\n",
       "    <tr style=\"text-align: right;\">\n",
       "      <th></th>\n",
       "      <th>age</th>\n",
       "      <th>sex</th>\n",
       "      <th>bmi</th>\n",
       "      <th>children</th>\n",
       "      <th>smoker</th>\n",
       "      <th>region</th>\n",
       "      <th>charges</th>\n",
       "      <th>smoker_code</th>\n",
       "      <th>sex_code</th>\n",
       "      <th>northeast</th>\n",
       "      <th>northwest</th>\n",
       "      <th>southeast</th>\n",
       "      <th>southwest</th>\n",
       "    </tr>\n",
       "  </thead>\n",
       "  <tbody>\n",
       "    <tr>\n",
       "      <th>0</th>\n",
       "      <td>19</td>\n",
       "      <td>female</td>\n",
       "      <td>27.900</td>\n",
       "      <td>0</td>\n",
       "      <td>yes</td>\n",
       "      <td>southwest</td>\n",
       "      <td>16884.92400</td>\n",
       "      <td>1</td>\n",
       "      <td>0</td>\n",
       "      <td>0.0</td>\n",
       "      <td>0.0</td>\n",
       "      <td>0.0</td>\n",
       "      <td>1.0</td>\n",
       "    </tr>\n",
       "    <tr>\n",
       "      <th>1</th>\n",
       "      <td>18</td>\n",
       "      <td>male</td>\n",
       "      <td>33.770</td>\n",
       "      <td>1</td>\n",
       "      <td>no</td>\n",
       "      <td>southeast</td>\n",
       "      <td>1725.55230</td>\n",
       "      <td>0</td>\n",
       "      <td>1</td>\n",
       "      <td>0.0</td>\n",
       "      <td>0.0</td>\n",
       "      <td>1.0</td>\n",
       "      <td>0.0</td>\n",
       "    </tr>\n",
       "    <tr>\n",
       "      <th>2</th>\n",
       "      <td>28</td>\n",
       "      <td>male</td>\n",
       "      <td>33.000</td>\n",
       "      <td>3</td>\n",
       "      <td>no</td>\n",
       "      <td>southeast</td>\n",
       "      <td>4449.46200</td>\n",
       "      <td>0</td>\n",
       "      <td>1</td>\n",
       "      <td>0.0</td>\n",
       "      <td>0.0</td>\n",
       "      <td>1.0</td>\n",
       "      <td>0.0</td>\n",
       "    </tr>\n",
       "    <tr>\n",
       "      <th>3</th>\n",
       "      <td>33</td>\n",
       "      <td>male</td>\n",
       "      <td>22.705</td>\n",
       "      <td>0</td>\n",
       "      <td>no</td>\n",
       "      <td>northwest</td>\n",
       "      <td>21984.47061</td>\n",
       "      <td>0</td>\n",
       "      <td>1</td>\n",
       "      <td>0.0</td>\n",
       "      <td>1.0</td>\n",
       "      <td>0.0</td>\n",
       "      <td>0.0</td>\n",
       "    </tr>\n",
       "    <tr>\n",
       "      <th>4</th>\n",
       "      <td>32</td>\n",
       "      <td>male</td>\n",
       "      <td>28.880</td>\n",
       "      <td>0</td>\n",
       "      <td>no</td>\n",
       "      <td>northwest</td>\n",
       "      <td>3866.85520</td>\n",
       "      <td>0</td>\n",
       "      <td>1</td>\n",
       "      <td>0.0</td>\n",
       "      <td>1.0</td>\n",
       "      <td>0.0</td>\n",
       "      <td>0.0</td>\n",
       "    </tr>\n",
       "    <tr>\n",
       "      <th>...</th>\n",
       "      <td>...</td>\n",
       "      <td>...</td>\n",
       "      <td>...</td>\n",
       "      <td>...</td>\n",
       "      <td>...</td>\n",
       "      <td>...</td>\n",
       "      <td>...</td>\n",
       "      <td>...</td>\n",
       "      <td>...</td>\n",
       "      <td>...</td>\n",
       "      <td>...</td>\n",
       "      <td>...</td>\n",
       "      <td>...</td>\n",
       "    </tr>\n",
       "    <tr>\n",
       "      <th>1333</th>\n",
       "      <td>50</td>\n",
       "      <td>male</td>\n",
       "      <td>30.970</td>\n",
       "      <td>3</td>\n",
       "      <td>no</td>\n",
       "      <td>northwest</td>\n",
       "      <td>10600.54830</td>\n",
       "      <td>0</td>\n",
       "      <td>1</td>\n",
       "      <td>0.0</td>\n",
       "      <td>1.0</td>\n",
       "      <td>0.0</td>\n",
       "      <td>0.0</td>\n",
       "    </tr>\n",
       "    <tr>\n",
       "      <th>1334</th>\n",
       "      <td>18</td>\n",
       "      <td>female</td>\n",
       "      <td>31.920</td>\n",
       "      <td>0</td>\n",
       "      <td>no</td>\n",
       "      <td>northeast</td>\n",
       "      <td>2205.98080</td>\n",
       "      <td>0</td>\n",
       "      <td>0</td>\n",
       "      <td>1.0</td>\n",
       "      <td>0.0</td>\n",
       "      <td>0.0</td>\n",
       "      <td>0.0</td>\n",
       "    </tr>\n",
       "    <tr>\n",
       "      <th>1335</th>\n",
       "      <td>18</td>\n",
       "      <td>female</td>\n",
       "      <td>36.850</td>\n",
       "      <td>0</td>\n",
       "      <td>no</td>\n",
       "      <td>southeast</td>\n",
       "      <td>1629.83350</td>\n",
       "      <td>0</td>\n",
       "      <td>0</td>\n",
       "      <td>0.0</td>\n",
       "      <td>0.0</td>\n",
       "      <td>1.0</td>\n",
       "      <td>0.0</td>\n",
       "    </tr>\n",
       "    <tr>\n",
       "      <th>1336</th>\n",
       "      <td>21</td>\n",
       "      <td>female</td>\n",
       "      <td>25.800</td>\n",
       "      <td>0</td>\n",
       "      <td>no</td>\n",
       "      <td>southwest</td>\n",
       "      <td>2007.94500</td>\n",
       "      <td>0</td>\n",
       "      <td>0</td>\n",
       "      <td>0.0</td>\n",
       "      <td>0.0</td>\n",
       "      <td>0.0</td>\n",
       "      <td>1.0</td>\n",
       "    </tr>\n",
       "    <tr>\n",
       "      <th>1337</th>\n",
       "      <td>61</td>\n",
       "      <td>female</td>\n",
       "      <td>29.070</td>\n",
       "      <td>0</td>\n",
       "      <td>yes</td>\n",
       "      <td>northwest</td>\n",
       "      <td>29141.36030</td>\n",
       "      <td>1</td>\n",
       "      <td>0</td>\n",
       "      <td>0.0</td>\n",
       "      <td>1.0</td>\n",
       "      <td>0.0</td>\n",
       "      <td>0.0</td>\n",
       "    </tr>\n",
       "  </tbody>\n",
       "</table>\n",
       "<p>1338 rows × 13 columns</p>\n",
       "</div>"
      ],
      "text/plain": [
       "      age     sex     bmi  children smoker     region      charges  \\\n",
       "0      19  female  27.900         0    yes  southwest  16884.92400   \n",
       "1      18    male  33.770         1     no  southeast   1725.55230   \n",
       "2      28    male  33.000         3     no  southeast   4449.46200   \n",
       "3      33    male  22.705         0     no  northwest  21984.47061   \n",
       "4      32    male  28.880         0     no  northwest   3866.85520   \n",
       "...   ...     ...     ...       ...    ...        ...          ...   \n",
       "1333   50    male  30.970         3     no  northwest  10600.54830   \n",
       "1334   18  female  31.920         0     no  northeast   2205.98080   \n",
       "1335   18  female  36.850         0     no  southeast   1629.83350   \n",
       "1336   21  female  25.800         0     no  southwest   2007.94500   \n",
       "1337   61  female  29.070         0    yes  northwest  29141.36030   \n",
       "\n",
       "      smoker_code  sex_code  northeast  northwest  southeast  southwest  \n",
       "0               1         0        0.0        0.0        0.0        1.0  \n",
       "1               0         1        0.0        0.0        1.0        0.0  \n",
       "2               0         1        0.0        0.0        1.0        0.0  \n",
       "3               0         1        0.0        1.0        0.0        0.0  \n",
       "4               0         1        0.0        1.0        0.0        0.0  \n",
       "...           ...       ...        ...        ...        ...        ...  \n",
       "1333            0         1        0.0        1.0        0.0        0.0  \n",
       "1334            0         0        1.0        0.0        0.0        0.0  \n",
       "1335            0         0        0.0        0.0        1.0        0.0  \n",
       "1336            0         0        0.0        0.0        0.0        1.0  \n",
       "1337            1         0        0.0        1.0        0.0        0.0  \n",
       "\n",
       "[1338 rows x 13 columns]"
      ]
     },
     "execution_count": 175,
     "metadata": {},
     "output_type": "execute_result"
    }
   ],
   "source": [
    "df"
   ]
  },
  {
   "cell_type": "code",
   "execution_count": 298,
   "id": "8ab7d20f-d7ca-4b20-a443-52f09e80abe9",
   "metadata": {},
   "outputs": [
    {
     "data": {
      "text/plain": [
       "array([[-1.43876426, -0.45332   , -0.90861367],\n",
       "       [-1.50996545,  0.5096211 , -0.07876719],\n",
       "       [-0.79795355,  0.38330685,  1.58092576],\n",
       "       ...,\n",
       "       [-1.50996545,  1.0148781 , -0.90861367],\n",
       "       [-1.29636188, -0.79781341, -0.90861367],\n",
       "       [ 1.55168573, -0.26138796, -0.90861367]])"
      ]
     },
     "execution_count": 298,
     "metadata": {},
     "output_type": "execute_result"
    }
   ],
   "source": [
    "from sklearn.preprocessing import StandardScaler\n",
    "\n",
    "numeric_cols = ['age', 'bmi', 'children'] \n",
    "# scaler=StandardScaler()\n",
    "# scaled_inputs=scaler.fit_transform(df[numeric_cols])\n",
    "# scaled_inputs\n",
    "scaler = StandardScaler()\n",
    "scaler.fit(df[numeric_cols])\n",
    "scaled_inputs = scaler.transform(df[numeric_cols])\n",
    "scaled_inputs"
   ]
  },
  {
   "cell_type": "code",
   "execution_count": 177,
   "id": "c3c5d41c-98a2-40aa-a284-090d300571f2",
   "metadata": {},
   "outputs": [
    {
     "data": {
      "text/plain": [
       "(array([39.20702541, 30.66339686,  1.09491779]),\n",
       " array([197.25385199,  37.16008997,   1.45212664]))"
      ]
     },
     "execution_count": 177,
     "metadata": {},
     "output_type": "execute_result"
    }
   ],
   "source": [
    "scaler.mean_,scaler.var_"
   ]
  },
  {
   "cell_type": "code",
   "execution_count": 300,
   "id": "70d88000-5738-4e7f-9f67-808e37ba0c09",
   "metadata": {},
   "outputs": [],
   "source": [
    "\n",
    "cat_cols = ['smoker_code', 'sex_code', 'northeast', 'northwest', 'southeast']\n",
    "categorical_data = df[cat_cols].values"
   ]
  },
  {
   "cell_type": "markdown",
   "id": "4bb8c5b3-e959-4413-9bae-7a57c9aa9cb3",
   "metadata": {},
   "source": [
    "    These can now we combined with the categorical data"
   ]
  },
  {
   "cell_type": "code",
   "execution_count": 302,
   "id": "c1c137cb-2f32-474d-98d7-134cb3e1da72",
   "metadata": {},
   "outputs": [
    {
     "name": "stdout",
     "output_type": "stream",
     "text": [
      "Loss: 6041.6796511744515\n"
     ]
    }
   ],
   "source": [
    "inputs = np.concatenate((scaled_inputs, categorical_data), axis=1)\n",
    "targets = df.charges\n",
    "\n",
    "# Create and train the model\n",
    "model = LinearRegression().fit(inputs, targets)\n",
    "\n",
    "# Generate predictions\n",
    "predictions = model.predict(inputs)\n",
    "\n",
    "# Compute loss to evalute the model\n",
    "loss = rmse(targets, predictions)\n",
    "print('Loss:', loss)"
   ]
  },
  {
   "cell_type": "markdown",
   "id": "42b6c2d3-81df-4730-b48c-674cb9270b30",
   "metadata": {},
   "source": [
    "    We can now compare the weights in the formula:"
   ]
  },
  {
   "cell_type": "code",
   "execution_count": 308,
   "id": "5501e2ff-2ff7-4df0-a541-deafc93ad8fe",
   "metadata": {},
   "outputs": [
    {
     "name": "stdout",
     "output_type": "stream",
     "text": [
      "Loss (RMSE): 6041.795350228959\n",
      "            feature        weight\n",
      "8  region_southwest  5.778763e+16\n",
      "3       smoker_code  2.384485e+04\n",
      "9              bias  9.102422e+03\n",
      "0               age  3.607849e+03\n",
      "1               bmi  2.073943e+03\n",
      "2          children  5.668100e+02\n",
      "4          sex_code -1.325247e+02\n",
      "5  region_northwest -3.957252e+02\n",
      "6  region_southeast -1.086589e+03\n",
      "7  region_southwest -5.778763e+16\n"
     ]
    }
   ],
   "source": [
    "#Alternate way\n",
    "\n",
    "# ✅ Step 1: One-hot encode categorical 'region', drop one to avoid multicollinearity\n",
    "df_encoded = pd.get_dummies(df, columns=['region'], drop_first=False)\n",
    "\n",
    "# ✅ Step 2: Define numeric and categorical columns\n",
    "numeric_cols = ['age', 'bmi', 'children']\n",
    "cat_cols = ['smoker_code', 'sex_code', 'region_northwest', 'region_southeast', 'region_southwest','region_southwest']\n",
    "# 'region_northeast' is dropped and acts as the reference\n",
    "\n",
    "# ✅ Step 3: Standardize numeric columns\n",
    "scaler = StandardScaler()\n",
    "scaled_numeric = scaler.fit_transform(df_encoded[numeric_cols])\n",
    "\n",
    "# ✅ Step 4: Combine inputs\n",
    "categorical_data = df_encoded[cat_cols].values\n",
    "inputs = np.concatenate((scaled_numeric, categorical_data), axis=1)\n",
    "targets = df_encoded['charges']\n",
    "\n",
    "# ✅ Step 5: Train model\n",
    "model = LinearRegression().fit(inputs, targets)\n",
    "\n",
    "# ✅ Step 6: Evaluate with RMSE\n",
    "predictions = model.predict(inputs)\n",
    "\n",
    "loss = rmse(targets, predictions)\n",
    "print('Loss (RMSE):', loss)\n",
    "\n",
    "# ✅ Step 7: Show weights\n",
    "all_features = numeric_cols + cat_cols\n",
    "weights_df = pd.DataFrame({\n",
    "    'feature': np.append(all_features, 'bias'),\n",
    "    'weight': np.append(model.coef_, model.intercept_)\n",
    "})\n",
    "print(weights_df.sort_values('weight', ascending=False))"
   ]
  },
  {
   "cell_type": "code",
   "execution_count": 183,
   "id": "f5c7085c-dc8a-447d-86e0-43754f272f8a",
   "metadata": {},
   "outputs": [
    {
     "data": {
      "text/html": [
       "<div>\n",
       "<style scoped>\n",
       "    .dataframe tbody tr th:only-of-type {\n",
       "        vertical-align: middle;\n",
       "    }\n",
       "\n",
       "    .dataframe tbody tr th {\n",
       "        vertical-align: top;\n",
       "    }\n",
       "\n",
       "    .dataframe thead th {\n",
       "        text-align: right;\n",
       "    }\n",
       "</style>\n",
       "<table border=\"1\" class=\"dataframe\">\n",
       "  <thead>\n",
       "    <tr style=\"text-align: right;\">\n",
       "      <th></th>\n",
       "      <th>feature</th>\n",
       "      <th>weight</th>\n",
       "    </tr>\n",
       "  </thead>\n",
       "  <tbody>\n",
       "    <tr>\n",
       "      <th>7</th>\n",
       "      <td>region_southwest</td>\n",
       "      <td>-5.778763e+16</td>\n",
       "    </tr>\n",
       "    <tr>\n",
       "      <th>6</th>\n",
       "      <td>region_southeast</td>\n",
       "      <td>-1.086589e+03</td>\n",
       "    </tr>\n",
       "    <tr>\n",
       "      <th>5</th>\n",
       "      <td>region_northwest</td>\n",
       "      <td>-3.957252e+02</td>\n",
       "    </tr>\n",
       "    <tr>\n",
       "      <th>4</th>\n",
       "      <td>sex_code</td>\n",
       "      <td>-1.325247e+02</td>\n",
       "    </tr>\n",
       "    <tr>\n",
       "      <th>2</th>\n",
       "      <td>children</td>\n",
       "      <td>5.668100e+02</td>\n",
       "    </tr>\n",
       "    <tr>\n",
       "      <th>1</th>\n",
       "      <td>bmi</td>\n",
       "      <td>2.073943e+03</td>\n",
       "    </tr>\n",
       "    <tr>\n",
       "      <th>0</th>\n",
       "      <td>age</td>\n",
       "      <td>3.607849e+03</td>\n",
       "    </tr>\n",
       "    <tr>\n",
       "      <th>9</th>\n",
       "      <td>1</td>\n",
       "      <td>9.102422e+03</td>\n",
       "    </tr>\n",
       "    <tr>\n",
       "      <th>3</th>\n",
       "      <td>smoker_code</td>\n",
       "      <td>2.384485e+04</td>\n",
       "    </tr>\n",
       "    <tr>\n",
       "      <th>8</th>\n",
       "      <td>region_southwest</td>\n",
       "      <td>5.778763e+16</td>\n",
       "    </tr>\n",
       "  </tbody>\n",
       "</table>\n",
       "</div>"
      ],
      "text/plain": [
       "            feature        weight\n",
       "7  region_southwest -5.778763e+16\n",
       "6  region_southeast -1.086589e+03\n",
       "5  region_northwest -3.957252e+02\n",
       "4          sex_code -1.325247e+02\n",
       "2          children  5.668100e+02\n",
       "1               bmi  2.073943e+03\n",
       "0               age  3.607849e+03\n",
       "9                 1  9.102422e+03\n",
       "3       smoker_code  2.384485e+04\n",
       "8  region_southwest  5.778763e+16"
      ]
     },
     "execution_count": 183,
     "metadata": {},
     "output_type": "execute_result"
    }
   ],
   "source": [
    "weights_df = pd.DataFrame({\n",
    "    'feature': np.append(numeric_cols + cat_cols, 1),\n",
    "    'weight': np.append(model.coef_, model.intercept_)\n",
    "})\n",
    "weights_df.sort_values('weight', ascending=True)"
   ]
  },
  {
   "cell_type": "markdown",
   "id": "b3ceae7e-e18e-4d39-b53b-a4d81f12ac18",
   "metadata": {},
   "source": [
    "    As you can see now, the most important feature are:\n",
    "\n",
    ">1. Smoker\n",
    " \n",
    ">2. Age\n",
    "\n",
    ">3. BMI"
   ]
  },
  {
   "cell_type": "code",
   "execution_count": 185,
   "id": "3adaffff-71a1-4cac-a0a9-5c85d64c1a3c",
   "metadata": {},
   "outputs": [
    {
     "data": {
      "text/plain": [
       "array([140638.47676464])"
      ]
     },
     "execution_count": 185,
     "metadata": {},
     "output_type": "execute_result"
    }
   ],
   "source": [
    "model.predict([[23, 24, 0, 0, 1, 0, 1, 0,0]])  # Row: Age 23, BMI 24, Children 0, Smoker 0, Male, Region Southeast"
   ]
  },
  {
   "cell_type": "markdown",
   "id": "7140d5f5-d3e7-4d57-b90e-9eb5074db3fd",
   "metadata": {},
   "source": [
    "    whenever we are calulating for new customer we need to scale them before we put them into the model"
   ]
  },
  {
   "cell_type": "code",
   "execution_count": 187,
   "id": "904d67d4-41d2-4b80-beaf-785f52d7b8b7",
   "metadata": {},
   "outputs": [
    {
     "name": "stderr",
     "output_type": "stream",
     "text": [
      "C:\\Users\\amrit\\anaconda3\\Lib\\site-packages\\sklearn\\base.py:493: UserWarning:\n",
      "\n",
      "X does not have valid feature names, but StandardScaler was fitted with feature names\n",
      "\n"
     ]
    },
    {
     "data": {
      "text/plain": [
       "array([[-0.79795355, -0.10882659,  0.75107928]])"
      ]
     },
     "execution_count": 187,
     "metadata": {},
     "output_type": "execute_result"
    }
   ],
   "source": [
    " \n",
    "\n",
    "new=[[28, 30, 2, 1, 0, 0, 1,0,0]]\n",
    "scaler.transform([[28, 30, 2]])\n"
   ]
  },
  {
   "cell_type": "code",
   "execution_count": 188,
   "id": "2320257b-4581-4e08-8a9b-350cdd8bfca8",
   "metadata": {},
   "outputs": [
    {
     "data": {
      "text/plain": [
       "array([29181.80232802])"
      ]
     },
     "execution_count": 188,
     "metadata": {},
     "output_type": "execute_result"
    }
   ],
   "source": [
    "model.predict([[-0.79795355, -0.10882659,  0.75107928, 1, 0, 0, 1,0,0]])"
   ]
  },
  {
   "cell_type": "markdown",
   "id": "3c2bb112-8348-42d3-ada0-4148132b98cd",
   "metadata": {},
   "source": [
    "# Creating a Test Set\n",
    "    Models like the one we've created in this tutorial are designed to be used in the real world. It's common practice to set aside a small fraction of the data (e.g. 10%) just for testing and reporting the results of the model."
   ]
  },
  {
   "cell_type": "code",
   "execution_count": 310,
   "id": "7c07f025-58ef-46b1-b18e-8dbb90dc7ea1",
   "metadata": {},
   "outputs": [
    {
     "name": "stdout",
     "output_type": "stream",
     "text": [
      "Test Loss: 5910.180368929703\n"
     ]
    }
   ],
   "source": [
    "from sklearn.model_selection import train_test_split\n",
    "\n",
    "inputs_train, inputs_test, targets_train, targets_test = train_test_split(inputs, targets, test_size=0.1)\n",
    "\n",
    "# Create and train the model\n",
    "model = LinearRegression().fit(inputs_train, targets_train)\n",
    "\n",
    "# Generate predictions\n",
    "predictions_test = model.predict(inputs_test)\n",
    "\n",
    "# Compute loss to evalute the model\n",
    "loss = rmse(targets_test, predictions_test)\n",
    "print('Test Loss:', loss)"
   ]
  },
  {
   "cell_type": "code",
   "execution_count": 312,
   "id": "665855c6-2497-4120-a2f2-6b1d37f75706",
   "metadata": {},
   "outputs": [
    {
     "name": "stdout",
     "output_type": "stream",
     "text": [
      "Training Loss: 6056.920744347413\n"
     ]
    }
   ],
   "source": [
    "# Generate predictions\n",
    "predictions_train = model.predict(inputs_train)\n",
    "\n",
    "# Compute loss to evalute the model\n",
    "loss = rmse(targets_train, predictions_train)\n",
    "print('Training Loss:', loss)"
   ]
  },
  {
   "cell_type": "markdown",
   "id": "21c1be43-1e51-43af-9807-44ad6fdb26a9",
   "metadata": {},
   "source": [
    "\n",
    "\n",
    "    Now it looks like what we typically expect:\n",
    "\n",
    "🔹 Training Loss (6028) is slightly lower than\n",
    "🔹 Test Loss (6190)\n",
    "\n",
    "    This suggests that:\n",
    "\n",
    ">Your model is learning well from the training data ✅\n",
    "\n",
    ">It’s also generalizing nicely to unseen data ✅\n",
    "\n",
    ">And there’s no overfitting or underfitting going on "
   ]
  },
  {
   "cell_type": "markdown",
   "id": "d95d148b-fda4-4e41-bfca-efbb38c0914d",
   "metadata": {},
   "source": [
    "    You’re studying for a test.\n",
    "\n",
    "    You practice with 90 questions.\n",
    "    Then, the teacher gives you 10 new unseen questions in the actual exam.\n",
    "    If you do well on those 10, it means you understood the concept — not just memorized answers.\n",
    "\n",
    "    In ML, the 90% is for practice (training), and the 10% is the test — to see how well the model performs on unseen data.\n",
    "\n",
    "    🧠 Why not just use 100% data for training?\n",
    "    Because if you do that:\n",
    "\n",
    "    The model has nothing left to prove its skills on.\n",
    "    You won’t know if it’s just memorizing the answers or actually learning patterns.\n",
    "    It could perform great on training data but fail badly on new data (this is called overfitting).\n",
    "\n",
    "    🧪 So here’s what 90-10 is doing:\n",
    "\n",
    "    Purpose\tData Used\tWhat Happens\n",
    "    Training\t90%\tThe model learns from this data (features + correct answers)\n",
    "    Testing\t10%\tThe model is challenged with new data to prove it learned something real\n",
    "    🔄 Can we use different splits?\n",
    "    Yes! Common ones are:\n",
    "\n",
    "    80-20 (for more reliable testing)\n",
    "\n",
    "    70-30 (more aggressive testing)\n",
    "\n",
    "    90-10 (when data is limited and you want to train well)\n",
    "\n",
    "    👉 You can even use cross-validation, which is like shuffling and splitting multiple times to ensure fairness."
   ]
  },
  {
   "cell_type": "code",
   "execution_count": null,
   "id": "b982754f-e18f-477e-93e3-5537167c236f",
   "metadata": {},
   "outputs": [],
   "source": []
  }
 ],
 "metadata": {
  "kaggle": {
   "accelerator": "none",
   "dataSources": [
    {
     "datasetId": 13720,
     "sourceId": 18513,
     "sourceType": "datasetVersion"
    }
   ],
   "dockerImageVersionId": 29271,
   "isGpuEnabled": false,
   "isInternetEnabled": false,
   "language": "python",
   "sourceType": "notebook"
  },
  "kernelspec": {
   "display_name": "Python 3 (ipykernel)",
   "language": "python",
   "name": "python3"
  },
  "language_info": {
   "codemirror_mode": {
    "name": "ipython",
    "version": 3
   },
   "file_extension": ".py",
   "mimetype": "text/x-python",
   "name": "python",
   "nbconvert_exporter": "python",
   "pygments_lexer": "ipython3",
   "version": "3.12.7"
  }
 },
 "nbformat": 4,
 "nbformat_minor": 5
}
